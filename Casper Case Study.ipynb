{
 "cells": [
  {
   "cell_type": "markdown",
   "metadata": {},
   "source": [
    "# <font color = 'blue'>Casper Market Segmentation</font>\n",
    "\n",
    "## <font color = 'red'> Business Problem: </font>\n",
    "+ What do our clients look like? (narrowed down goal by using [questions](#questions))\n",
    "    + What groups have we targeted successfully? (Made money from in the past)\n",
    "    + How can we identify groups to target in future marketing campaigns? (Make money from in the future)    \n",
    "\n",
    "\n",
    "## <font color = 'red'> What I know: </font>\n",
    "+ Have to ask [questions](#questions) to figure out what data they have."
   ]
  },
  {
   "cell_type": "markdown",
   "metadata": {},
   "source": [
    "# Table of Contents\n",
    "1. Step 1 [Clarifying Questions](#questions)\n",
    "2. Step 2 [Brainstorming/Big Picture](#brainstorm)\n",
    "3. Step 3 [Plan of Action](#plan)\n",
    "4. Step 4 [Present Results & Future Directions](#results)\n",
    "5. Quick [K-Means](#kmeans) overview\n",
    "6. [Coding Challenge](#code)"
   ]
  },
  {
   "cell_type": "markdown",
   "metadata": {
    "collapsed": true
   },
   "source": [
    "# <font color ='blue'>Step 1: Clarifying Questions</font> <a class=\"anchor\" id=\"questions\"></a>\n",
    "\n",
    "1. Why do you want to know this information? What are your goals?\n",
    "    + <strong>Ans</strong>: I dentify groups of customers we have historically sold well to and identify which customers to target in the future and how\n",
    "2. Do you have Point of Sales data? \n",
    "    + <strong>Ans</strong>: Yes!\n",
    "3. Do you have demographic data?\n",
    "    + <strong>Ans</strong>: We could probably get that through third party providers\n",
    "4. Do you have marketing data?\n",
    "    + <strong>Ans</strong>: Yes!\n",
    "5. Is there anything else I need to know?\n",
    "6. Have you tried anything in the past? What's worked well and what has not?\n",
    "7. Is there anything larger that you are building for in the future? Is there a certain way we should steer this project or present the results?\n",
    "8. Is there a timline for this project?"
   ]
  },
  {
   "cell_type": "markdown",
   "metadata": {},
   "source": [
    "# <font color ='blue'>Step 2: Brainstorming/Big Picture</font><a class=\"anchor\" id=\"brainstorm\"></a>\n",
    "1. Casper likely attracts a certain type of customer: someone who is comfortable purchasing items on the internet.\n",
    "    + Maybe this customer fits a certain profile (lives on the coasts/big cities, young, shops at Amazon, etc)\n",
    "    + Maybe there are multiple subgroups of people who are likely to buy our product (clusters)\n",
    "    + Maybe there are some outlier customers who we are surprised to see purchasing our mattresses -- WHAT HAPPENED?\n",
    "2. How can we attract more \"outlier customers\"?\n",
    "    + Can we judge from point of sale data or marketing data what encouraged them to check Casper out and ultimately purchase a mattress?\n",
    "    + Channel attribution (personal referral, subway advertisement, unboxing video online, Google search). What led them directly to us?\n",
    "3. What demographics have we not tapped into at all? What lines are they divided by (geographical, age)?\n",
    "    + Maybe a certain age group was well-represented in NYC but not Chicago, what sort of campaigns did we run in NYC that we could easily transfer to Chicago? (Maybe it was a marketing exposure problem.)\n",
    "4. What are the differences between customers who return products and those who keep them? \n",
    "    + How can we adjust our marketing, product, customer service to better fit the needs of these customers?\n",
    "    \n",
    "    "
   ]
  },
  {
   "cell_type": "markdown",
   "metadata": {},
   "source": [
    "# <font color ='blue'>Step 3: Plan of Action</font><a class=\"anchor\" id=\"plan\"></a>\n",
    "1. Acquire data\n",
    "2. Clean data\n",
    "3. Cluster Analysis for Market Segmentation:\n",
    "    + **K-means!** (mutually exclusive groups)\n",
    "    + Try out Hierarchical too\n",
    "4. Evaluate & Iterate \n",
    "5. Name clusters & look for outliers\n",
    "6. Present Results\n",
    "7. Prepare for future directions\n",
    "\n",
    "<br>\n",
    "*Could try*:\n",
    "+ Manually separating groups along certain lines (i.e. coastal vs. inland) and run **statistical tests** to see if there is any significant differences between these groups (ie. age: maybe older customers from the coast are more likely to buy than older customers inland). \n",
    "+ **Time series analysis** (how have clusters changed over time? What new types of customers have we attracted and when? Have any groups of customers stopped coming to Casper? Where did they go?)\n"
   ]
  },
  {
   "cell_type": "markdown",
   "metadata": {},
   "source": [
    "# <font color ='blue'>Step 4: Present Results & Future Directions</font><a class=\"anchor\" id=\"results\"></a>\n",
    "1. <strong>Presentation of Results</strong>:\n",
    "    + Viualization of groups\n",
    "    + Quick description of groups we successfully attract (who they are and why we attract them, ie. marketing campaigns)\n",
    "    + Unveiling of groups/<i>outliers</i> we have shown little success with\n",
    "    + Analysis of why some of those outlying customers have chosen Casper\n",
    "<br> \n",
    "<br>\n",
    "2. <strong>Future directions</strong>:\n",
    "    + Actionable recommendations (what campaigns to run to what clusters/demographics)\n",
    "    + A/B testing!\n",
    "    + Was there anything missing from this picture? What data could be helpful in the future that we could start collecting now? \n",
    "    + What groups have we seen zero succss with?"
   ]
  },
  {
   "cell_type": "markdown",
   "metadata": {},
   "source": [
    "# <font color=\"green\">K-Means Clustering Overview</font> <a class=\"anchor\" id=\"kmeans\"></a>"
   ]
  },
  {
   "cell_type": "markdown",
   "metadata": {},
   "source": [
    "The K-Means algorithm is an unsupervised learning technique used to create k clusters of mutually exclusive groups. Every observation is assigned to one and only one group. The scientist chooses the value of k, but does so with the aid of a scree plot (elbow graph) which shows the within-cluster variance for various values of k. The within-cluster variance decreases quickly at first, then levels off, creating an elbow. Often, it is at the elbow that we choose the value of k. \n",
    "\n",
    "Once k is chosen, the algorithm is performed. K centroids are randomly placed in the n-dimensional space of the dataset. Then, a distance measure is calculated between each observation and the k centroids. The observations are then assigned to the cluster of the closest centroid. The average of each cluster is then calculated and the centroids positions are reassigned (ie. they move). The process starts over and the distance between every observation and each newly-placed centroid is calculated. The data is reassigned to the closest centroid cluster and the averages of each cluster are calculated again. The process continues until the groups remain unchanged. \n",
    "\n",
    "Depending on where the centroids randomly initialize, different clusters can form (i.e. the clusters converge on different local minima). So the algorithm is run multiple times and the solution that yields the smallest aggregate within-cluster variance is chosen as having the best groups. \n",
    "\n",
    "Visualization of the algoirthm: https://en.wikipedia.org/wiki/K-means_clustering"
   ]
  },
  {
   "cell_type": "markdown",
   "metadata": {
    "collapsed": true
   },
   "source": [
    "# Coding Practice: Clustering based on review data <a class=\"anchor\" id=\"code\"></a>\n",
    "\n",
    "## <font color = 'red'> Challenges: </font>\n",
    "+ Limited data: \n",
    "    + only review data (name, age, city, rating, review text, hours of sleep, sleeping partners) \n",
    "    + no channel attribution, guessing on certain demographic data\n",
    "+ Unsupervised Learning\n"
   ]
  },
  {
   "cell_type": "markdown",
   "metadata": {},
   "source": [
    "## Loading libraries and data"
   ]
  },
  {
   "cell_type": "code",
   "execution_count": 1,
   "metadata": {
    "collapsed": true
   },
   "outputs": [],
   "source": [
    "#load libraries\n",
    "import pandas as pd\n",
    "import numpy as np\n",
    "import matplotlib.pyplot as plt\n",
    "\n",
    "%matplotlib inline"
   ]
  },
  {
   "cell_type": "code",
   "execution_count": 2,
   "metadata": {},
   "outputs": [
    {
     "data": {
      "text/html": [
       "<div>\n",
       "<style scoped>\n",
       "    .dataframe tbody tr th:only-of-type {\n",
       "        vertical-align: middle;\n",
       "    }\n",
       "\n",
       "    .dataframe tbody tr th {\n",
       "        vertical-align: top;\n",
       "    }\n",
       "\n",
       "    .dataframe thead th {\n",
       "        text-align: right;\n",
       "    }\n",
       "</style>\n",
       "<table border=\"1\" class=\"dataframe\">\n",
       "  <thead>\n",
       "    <tr style=\"text-align: right;\">\n",
       "      <th></th>\n",
       "      <th>city</th>\n",
       "      <th>rating</th>\n",
       "      <th>name</th>\n",
       "      <th>partners</th>\n",
       "      <th>age</th>\n",
       "      <th>title</th>\n",
       "      <th>hours</th>\n",
       "      <th>state</th>\n",
       "      <th>review</th>\n",
       "      <th>date</th>\n",
       "      <th>verified</th>\n",
       "      <th>page</th>\n",
       "    </tr>\n",
       "  </thead>\n",
       "  <tbody>\n",
       "    <tr>\n",
       "      <th>0</th>\n",
       "      <td>\\nChicago, Illinois\\n</td>\n",
       "      <td>5</td>\n",
       "      <td>\\nJoe W\\n</td>\n",
       "      <td>Sleeps with a partner</td>\n",
       "      <td>\\n35 years old\\n</td>\n",
       "      <td>\\nGreat Mattress\\n</td>\n",
       "      <td>8</td>\n",
       "      <td>\\nChicago, Illinois\\n</td>\n",
       "      <td>\\nWe visited the Chicago store in Fulton Marke...</td>\n",
       "      <td>\\nFeb 13, 2018\\n</td>\n",
       "      <td>\\n</td>\n",
       "      <td>1</td>\n",
       "    </tr>\n",
       "    <tr>\n",
       "      <th>1</th>\n",
       "      <td>\\nBoston, Massachusetts\\n</td>\n",
       "      <td>5</td>\n",
       "      <td>\\nJ\\n</td>\n",
       "      <td>Sleeps solo</td>\n",
       "      <td>\\n33 years old\\n</td>\n",
       "      <td>\\nHighly Recommend\\n</td>\n",
       "      <td>8</td>\n",
       "      <td>\\nBoston, Massachusetts\\n</td>\n",
       "      <td>\\nIve had my previous mattress for YEARS (WAY ...</td>\n",
       "      <td>\\nFeb 13, 2018\\n</td>\n",
       "      <td>\\n</td>\n",
       "      <td>1</td>\n",
       "    </tr>\n",
       "    <tr>\n",
       "      <th>2</th>\n",
       "      <td>\\nOwasso, Oklahoma\\n</td>\n",
       "      <td>4</td>\n",
       "      <td>\\nDavid Alessi\\n</td>\n",
       "      <td>Sleeps solo</td>\n",
       "      <td>\\n70 years old\\n</td>\n",
       "      <td>\\nI like it but am still getting used to it. \\n</td>\n",
       "      <td>7</td>\n",
       "      <td>\\nOwasso, Oklahoma\\n</td>\n",
       "      <td>\\nThe unboxing was a challenge but we managed....</td>\n",
       "      <td>\\nFeb 13, 2018\\n</td>\n",
       "      <td>\\n</td>\n",
       "      <td>1</td>\n",
       "    </tr>\n",
       "    <tr>\n",
       "      <th>3</th>\n",
       "      <td>\\nBrownville, Maine\\n</td>\n",
       "      <td>3</td>\n",
       "      <td>\\nJeanne Hamlin\\n</td>\n",
       "      <td>Sleeps with a partner</td>\n",
       "      <td>\\n66 years old\\n</td>\n",
       "      <td>\\nokay\\n</td>\n",
       "      <td>8</td>\n",
       "      <td>\\nBrownville, Maine\\n</td>\n",
       "      <td>\\nThe un-boxing was interesting.  I was disapp...</td>\n",
       "      <td>\\nFeb 13, 2018\\n</td>\n",
       "      <td>\\n</td>\n",
       "      <td>1</td>\n",
       "    </tr>\n",
       "    <tr>\n",
       "      <th>4</th>\n",
       "      <td>\\nLive Oak, Texas\\n</td>\n",
       "      <td>5</td>\n",
       "      <td>\\nLETTY DELOACH\\n</td>\n",
       "      <td>Sleeps with a partner plus a cat</td>\n",
       "      <td>\\n37 years old\\n</td>\n",
       "      <td>\\nFinally found THE mattress!\\n</td>\n",
       "      <td>8</td>\n",
       "      <td>\\nLive Oak, Texas\\n</td>\n",
       "      <td>\\nI absolutely love my Casper mattress!  I was...</td>\n",
       "      <td>\\nFeb 12, 2018\\n</td>\n",
       "      <td>\\n</td>\n",
       "      <td>1</td>\n",
       "    </tr>\n",
       "  </tbody>\n",
       "</table>\n",
       "</div>"
      ],
      "text/plain": [
       "                        city  rating               name  \\\n",
       "0      \\nChicago, Illinois\\n       5          \\nJoe W\\n   \n",
       "1  \\nBoston, Massachusetts\\n       5              \\nJ\\n   \n",
       "2       \\nOwasso, Oklahoma\\n       4   \\nDavid Alessi\\n   \n",
       "3      \\nBrownville, Maine\\n       3  \\nJeanne Hamlin\\n   \n",
       "4        \\nLive Oak, Texas\\n       5  \\nLETTY DELOACH\\n   \n",
       "\n",
       "                           partners               age  \\\n",
       "0             Sleeps with a partner  \\n35 years old\\n   \n",
       "1                       Sleeps solo  \\n33 years old\\n   \n",
       "2                       Sleeps solo  \\n70 years old\\n   \n",
       "3             Sleeps with a partner  \\n66 years old\\n   \n",
       "4  Sleeps with a partner plus a cat  \\n37 years old\\n   \n",
       "\n",
       "                                             title  hours  \\\n",
       "0                               \\nGreat Mattress\\n      8   \n",
       "1                             \\nHighly Recommend\\n      8   \n",
       "2  \\nI like it but am still getting used to it. \\n      7   \n",
       "3                                         \\nokay\\n      8   \n",
       "4                  \\nFinally found THE mattress!\\n      8   \n",
       "\n",
       "                       state  \\\n",
       "0      \\nChicago, Illinois\\n   \n",
       "1  \\nBoston, Massachusetts\\n   \n",
       "2       \\nOwasso, Oklahoma\\n   \n",
       "3      \\nBrownville, Maine\\n   \n",
       "4        \\nLive Oak, Texas\\n   \n",
       "\n",
       "                                              review              date  \\\n",
       "0  \\nWe visited the Chicago store in Fulton Marke...  \\nFeb 13, 2018\\n   \n",
       "1  \\nIve had my previous mattress for YEARS (WAY ...  \\nFeb 13, 2018\\n   \n",
       "2  \\nThe unboxing was a challenge but we managed....  \\nFeb 13, 2018\\n   \n",
       "3  \\nThe un-boxing was interesting.  I was disapp...  \\nFeb 13, 2018\\n   \n",
       "4  \\nI absolutely love my Casper mattress!  I was...  \\nFeb 12, 2018\\n   \n",
       "\n",
       "  verified  page  \n",
       "0       \\n     1  \n",
       "1       \\n     1  \n",
       "2       \\n     1  \n",
       "3       \\n     1  \n",
       "4       \\n     1  "
      ]
     },
     "execution_count": 2,
     "metadata": {},
     "output_type": "execute_result"
    }
   ],
   "source": [
    "#load casper review dataset (scraped from Casper website)\n",
    "casper = pd.read_csv('casper.csv')\n",
    "casper.head()"
   ]
  },
  {
   "cell_type": "markdown",
   "metadata": {},
   "source": [
    "## Cleaning"
   ]
  },
  {
   "cell_type": "code",
   "execution_count": 3,
   "metadata": {
    "collapsed": true
   },
   "outputs": [],
   "source": [
    "#remove whitespace\n",
    "casper = casper.apply(lambda x: x.str.strip() if x.dtype == \"object\" else x)"
   ]
  },
  {
   "cell_type": "code",
   "execution_count": 4,
   "metadata": {
    "collapsed": true
   },
   "outputs": [],
   "source": [
    "#drop verified column\n",
    "casper.drop(columns='verified', inplace=True)"
   ]
  },
  {
   "cell_type": "code",
   "execution_count": 5,
   "metadata": {
    "collapsed": true
   },
   "outputs": [],
   "source": [
    "#fix city, state, age\n",
    "casper['age']=[item[0] for item in casper.age.str.split()]\n",
    "casper.city = [item[0] for item in casper.state.str.split(',')]\n",
    "casper.state = [item[-1] for item in casper.state.str.split(',')]"
   ]
  },
  {
   "cell_type": "code",
   "execution_count": 6,
   "metadata": {},
   "outputs": [
    {
     "data": {
      "text/plain": [
       "(7777, 11)"
      ]
     },
     "execution_count": 6,
     "metadata": {},
     "output_type": "execute_result"
    }
   ],
   "source": [
    "#inspect shape\n",
    "casper.shape"
   ]
  },
  {
   "cell_type": "code",
   "execution_count": 7,
   "metadata": {
    "collapsed": true
   },
   "outputs": [],
   "source": [
    "#re-save to csv\n",
    "casper.to_csv('casper2.csv')"
   ]
  },
  {
   "cell_type": "code",
   "execution_count": 8,
   "metadata": {
    "collapsed": true
   },
   "outputs": [],
   "source": [
    "#re-order columns\n",
    "cols = ['date', 'name', 'age', 'city', 'state', 'rating', 'title', 'review', 'hours', 'partners', 'page']\n",
    "casper = casper[cols]"
   ]
  },
  {
   "cell_type": "code",
   "execution_count": 9,
   "metadata": {},
   "outputs": [
    {
     "data": {
      "text/plain": [
       "date        object\n",
       "name        object\n",
       "age         object\n",
       "city        object\n",
       "state       object\n",
       "rating       int64\n",
       "title       object\n",
       "review      object\n",
       "hours        int64\n",
       "partners    object\n",
       "page         int64\n",
       "dtype: object"
      ]
     },
     "execution_count": 9,
     "metadata": {},
     "output_type": "execute_result"
    }
   ],
   "source": [
    "#investigate\n",
    "casper.dtypes"
   ]
  },
  {
   "cell_type": "code",
   "execution_count": 10,
   "metadata": {},
   "outputs": [
    {
     "data": {
      "text/plain": [
       "{'Apr',\n",
       " 'Aug',\n",
       " 'Avr',\n",
       " 'Dec',\n",
       " 'Feb',\n",
       " 'Jan',\n",
       " 'Jul',\n",
       " 'Jun',\n",
       " 'Mai',\n",
       " 'Mar',\n",
       " 'May',\n",
       " 'Nov',\n",
       " 'Oct',\n",
       " 'Sep'}"
      ]
     },
     "execution_count": 10,
     "metadata": {},
     "output_type": "execute_result"
    }
   ],
   "source": [
    "#convert date to datetime\n",
    "# pd.to_datetime(casper['date'][3840:3850], errors=\"ignore\")\n",
    "\n",
    "#find error\n",
    "months = [item[0] for item in casper.date.str.split()]\n",
    "set(months)"
   ]
  },
  {
   "cell_type": "code",
   "execution_count": 11,
   "metadata": {},
   "outputs": [
    {
     "data": {
      "text/plain": [
       "7140    May 20, 2015\n",
       "7141    Mai 20, 2015\n",
       "7142    Mai 19, 2015\n",
       "7143    May 18, 2015\n",
       "7144    May 18, 2015\n",
       "7145    Mai 18, 2015\n",
       "7146    Mai 18, 2015\n",
       "7147    Mai 18, 2015\n",
       "7148    May 18, 2015\n",
       "7149    Mai 18, 2015\n",
       "7150    Mai 18, 2015\n",
       "7151    Mai 18, 2015\n",
       "7152    Mai 17, 2015\n",
       "7153    Mai 17, 2015\n",
       "7154    May 17, 2015\n",
       "7155    Mai 17, 2015\n",
       "7156    Mai 17, 2015\n",
       "7157    Mai 17, 2015\n",
       "7158    Mai 16, 2015\n",
       "7159    May 16, 2015\n",
       "7160    Mai 16, 2015\n",
       "7161    Mai 16, 2015\n",
       "7162    Mai 16, 2015\n",
       "7163    Mai 15, 2015\n",
       "7164    Mai 15, 2015\n",
       "7165    Mai 15, 2015\n",
       "7166    May 15, 2015\n",
       "7167    May 15, 2015\n",
       "7168    May 14, 2015\n",
       "7169    May 14, 2015\n",
       "            ...     \n",
       "7220    May 07, 2015\n",
       "7221    May 07, 2015\n",
       "7222    May 06, 2015\n",
       "7223    May 06, 2015\n",
       "7224    May 06, 2015\n",
       "7225    May 06, 2015\n",
       "7226    May 06, 2015\n",
       "7227    May 06, 2015\n",
       "7228    Mai 06, 2015\n",
       "7229    May 06, 2015\n",
       "7230    Mai 06, 2015\n",
       "7231    Mai 06, 2015\n",
       "7232    Mai 06, 2015\n",
       "7233    Mai 06, 2015\n",
       "7234    Mai 06, 2015\n",
       "7235    May 06, 2015\n",
       "7236    Mai 06, 2015\n",
       "7237    May 06, 2015\n",
       "7238    Mai 06, 2015\n",
       "7239    Mai 06, 2015\n",
       "7240    May 06, 2015\n",
       "7241    Mai 06, 2015\n",
       "7242    May 06, 2015\n",
       "7243    May 06, 2015\n",
       "7244    May 06, 2015\n",
       "7245    May 06, 2015\n",
       "7246    May 06, 2015\n",
       "7247    May 06, 2015\n",
       "7248    May 06, 2015\n",
       "7249    May 06, 2015\n",
       "Name: date, Length: 110, dtype: object"
      ]
     },
     "execution_count": 11,
     "metadata": {},
     "output_type": "execute_result"
    }
   ],
   "source": [
    "#inspect if Mai is supposed to be May or Mar\n",
    "# casper[casper.date.str.contains('Mai').apply(np.sum)==1] #gives index\n",
    "casper.date[7140:7250]"
   ]
  },
  {
   "cell_type": "code",
   "execution_count": 12,
   "metadata": {},
   "outputs": [
    {
     "data": {
      "text/plain": [
       "date        datetime64[ns]\n",
       "name                object\n",
       "age                 object\n",
       "city                object\n",
       "state               object\n",
       "rating               int64\n",
       "title               object\n",
       "review              object\n",
       "hours                int64\n",
       "partners            object\n",
       "page                 int64\n",
       "dtype: object"
      ]
     },
     "execution_count": 12,
     "metadata": {},
     "output_type": "execute_result"
    }
   ],
   "source": [
    "#correct misspellings and convert to datetime\n",
    "casper['date'] = casper['date'].str.replace('Mai','May')\n",
    "casper['date'] = casper['date'].str.replace('Avr','Apr')\n",
    "casper['date'] = pd.to_datetime(casper['date'], errors=\"ignore\")\n",
    "casper.dtypes"
   ]
  },
  {
   "cell_type": "code",
   "execution_count": 13,
   "metadata": {},
   "outputs": [
    {
     "data": {
      "text/plain": [
       "date        datetime64[ns]\n",
       "name                object\n",
       "age                float64\n",
       "city                object\n",
       "state               object\n",
       "rating               int64\n",
       "title               object\n",
       "review              object\n",
       "hours                int64\n",
       "partners            object\n",
       "page                 int64\n",
       "dtype: object"
      ]
     },
     "execution_count": 13,
     "metadata": {},
     "output_type": "execute_result"
    }
   ],
   "source": [
    "#convert age to int\n",
    "casper.age = casper.age.str.replace('<', '')\n",
    "casper.age = pd.to_numeric(casper.age)\n",
    "casper.dtypes"
   ]
  },
  {
   "cell_type": "code",
   "execution_count": 14,
   "metadata": {},
   "outputs": [
    {
     "data": {
      "text/plain": [
       "{'Dort  plusieurs',\n",
       " 'Dort  plusieurs avec un chat',\n",
       " 'Dort  plusieurs avec un chien',\n",
       " 'Dort  plusieurs avec un cochon',\n",
       " 'Dort avec un chien',\n",
       " 'Dort avec un(e) partenaire',\n",
       " 'Dort avec un(e) partenaire et un chat',\n",
       " 'Dort avec un(e) partenaire et un chien',\n",
       " 'Dort seul',\n",
       " 'Dort seul avec un chat',\n",
       " 'Dort seul(e) avec un chien',\n",
       " 'Dort seul(e) avec un cochon',\n",
       " 'Sleeps solo',\n",
       " 'Sleeps solo plus a cat',\n",
       " 'Sleeps solo plus a dog',\n",
       " 'Sleeps solo plus a pig',\n",
       " 'Sleeps with a cat',\n",
       " 'Sleeps with a dog',\n",
       " 'Sleeps with a partner',\n",
       " 'Sleeps with a partner plus a cat',\n",
       " 'Sleeps with a partner plus a dog',\n",
       " 'Sleeps with a partner plus a pig',\n",
       " 'Sleeps with multiple partners',\n",
       " 'Sleeps with multiple partners plus a cat',\n",
       " 'Sleeps with multiple partners plus a dog',\n",
       " 'Sleeps with multiple partners plus a pig'}"
      ]
     },
     "execution_count": 14,
     "metadata": {},
     "output_type": "execute_result"
    }
   ],
   "source": [
    "#inspect partners data\n",
    "set(casper.partners)"
   ]
  },
  {
   "cell_type": "code",
   "execution_count": 15,
   "metadata": {},
   "outputs": [
    {
     "data": {
      "text/html": [
       "<div>\n",
       "<style scoped>\n",
       "    .dataframe tbody tr th:only-of-type {\n",
       "        vertical-align: middle;\n",
       "    }\n",
       "\n",
       "    .dataframe tbody tr th {\n",
       "        vertical-align: top;\n",
       "    }\n",
       "\n",
       "    .dataframe thead th {\n",
       "        text-align: right;\n",
       "    }\n",
       "</style>\n",
       "<table border=\"1\" class=\"dataframe\">\n",
       "  <thead>\n",
       "    <tr style=\"text-align: right;\">\n",
       "      <th></th>\n",
       "      <th>date</th>\n",
       "      <th>name</th>\n",
       "      <th>age</th>\n",
       "      <th>city</th>\n",
       "      <th>state</th>\n",
       "      <th>rating</th>\n",
       "      <th>title</th>\n",
       "      <th>review</th>\n",
       "      <th>hours</th>\n",
       "      <th>partners</th>\n",
       "      <th>page</th>\n",
       "      <th>multiple_partners</th>\n",
       "      <th>single_partner</th>\n",
       "      <th>solo</th>\n",
       "      <th>pets</th>\n",
       "    </tr>\n",
       "  </thead>\n",
       "  <tbody>\n",
       "    <tr>\n",
       "      <th>0</th>\n",
       "      <td>2018-02-13</td>\n",
       "      <td>Joe W</td>\n",
       "      <td>35.0</td>\n",
       "      <td>Chicago</td>\n",
       "      <td>Illinois</td>\n",
       "      <td>5</td>\n",
       "      <td>Great Mattress</td>\n",
       "      <td>We visited the Chicago store in Fulton Market....</td>\n",
       "      <td>8</td>\n",
       "      <td>Sleeps with a partner</td>\n",
       "      <td>1</td>\n",
       "      <td>False</td>\n",
       "      <td>True</td>\n",
       "      <td>False</td>\n",
       "      <td>False</td>\n",
       "    </tr>\n",
       "    <tr>\n",
       "      <th>1</th>\n",
       "      <td>2018-02-13</td>\n",
       "      <td>J</td>\n",
       "      <td>33.0</td>\n",
       "      <td>Boston</td>\n",
       "      <td>Massachusetts</td>\n",
       "      <td>5</td>\n",
       "      <td>Highly Recommend</td>\n",
       "      <td>Ive had my previous mattress for YEARS (WAY ov...</td>\n",
       "      <td>8</td>\n",
       "      <td>Sleeps solo</td>\n",
       "      <td>1</td>\n",
       "      <td>False</td>\n",
       "      <td>False</td>\n",
       "      <td>True</td>\n",
       "      <td>False</td>\n",
       "    </tr>\n",
       "    <tr>\n",
       "      <th>2</th>\n",
       "      <td>2018-02-13</td>\n",
       "      <td>David Alessi</td>\n",
       "      <td>70.0</td>\n",
       "      <td>Owasso</td>\n",
       "      <td>Oklahoma</td>\n",
       "      <td>4</td>\n",
       "      <td>I like it but am still getting used to it.</td>\n",
       "      <td>The unboxing was a challenge but we managed. I...</td>\n",
       "      <td>7</td>\n",
       "      <td>Sleeps solo</td>\n",
       "      <td>1</td>\n",
       "      <td>False</td>\n",
       "      <td>False</td>\n",
       "      <td>True</td>\n",
       "      <td>False</td>\n",
       "    </tr>\n",
       "  </tbody>\n",
       "</table>\n",
       "</div>"
      ],
      "text/plain": [
       "        date          name   age     city           state  rating  \\\n",
       "0 2018-02-13         Joe W  35.0  Chicago        Illinois       5   \n",
       "1 2018-02-13             J  33.0   Boston   Massachusetts       5   \n",
       "2 2018-02-13  David Alessi  70.0   Owasso        Oklahoma       4   \n",
       "\n",
       "                                        title  \\\n",
       "0                              Great Mattress   \n",
       "1                            Highly Recommend   \n",
       "2  I like it but am still getting used to it.   \n",
       "\n",
       "                                              review  hours  \\\n",
       "0  We visited the Chicago store in Fulton Market....      8   \n",
       "1  Ive had my previous mattress for YEARS (WAY ov...      8   \n",
       "2  The unboxing was a challenge but we managed. I...      7   \n",
       "\n",
       "                partners  page  multiple_partners  single_partner   solo  \\\n",
       "0  Sleeps with a partner     1              False            True  False   \n",
       "1            Sleeps solo     1              False           False   True   \n",
       "2            Sleeps solo     1              False           False   True   \n",
       "\n",
       "    pets  \n",
       "0  False  \n",
       "1  False  \n",
       "2  False  "
      ]
     },
     "execution_count": 15,
     "metadata": {},
     "output_type": "execute_result"
    }
   ],
   "source": [
    "#split up partners info (include French)\n",
    "casper['multiple_partners'] = (casper.partners.str.contains('plusieur') | \n",
    "                               casper.partners.str.contains('multiple'))\n",
    "casper['single_partner'] = (casper.partners.str.contains('partenaire') | \n",
    "                               casper.partners.str.contains('a partner'))\n",
    "casper['solo'] = (casper.partners.str.contains('seul') | \n",
    "                  casper.partners.str.contains('Sleeps with a cat') | \n",
    "                  casper.partners.str.contains('Sleeps with a dog') | \n",
    "                  casper.partners.str.contains('solo') |\n",
    "                 casper.partners.str.contains('Dort avec un chien'))\n",
    "casper['pets'] = (casper.partners.str.contains('cat') |\n",
    "                  casper.partners.str.contains('chat') |\n",
    "                  casper.partners.str.contains('dog') |\n",
    "                  casper.partners.str.contains('chien') |\n",
    "                  casper.partners.str.contains('pig') |\n",
    "                  casper.partners.str.contains('cochen'))\n",
    "casper.head(3)"
   ]
  },
  {
   "cell_type": "code",
   "execution_count": 16,
   "metadata": {},
   "outputs": [
    {
     "data": {
      "text/plain": [
       "7777"
      ]
     },
     "execution_count": 16,
     "metadata": {},
     "output_type": "execute_result"
    }
   ],
   "source": [
    "#check if sums up correctly\n",
    "sum(casper.single_partner) + sum(casper.multiple_partners) + sum(casper.solo)"
   ]
  },
  {
   "cell_type": "code",
   "execution_count": 17,
   "metadata": {
    "collapsed": true
   },
   "outputs": [],
   "source": [
    "#add french column\n",
    "casper['french'] = casper.partners.str.contains('Dort')"
   ]
  },
  {
   "cell_type": "code",
   "execution_count": 19,
   "metadata": {
    "collapsed": true
   },
   "outputs": [],
   "source": [
    "#re-save to csv\n",
    "casper.to_csv('casper2.csv')"
   ]
  },
  {
   "cell_type": "markdown",
   "metadata": {},
   "source": [
    "## Model: K-Means Clustering"
   ]
  },
  {
   "cell_type": "code",
   "execution_count": 20,
   "metadata": {
    "collapsed": true,
    "scrolled": true
   },
   "outputs": [],
   "source": [
    "# import pandas as pd\n",
    "# casper = pd.read_csv('casper2.csv')\n",
    "# casper.dtypes"
   ]
  },
  {
   "cell_type": "code",
   "execution_count": 21,
   "metadata": {},
   "outputs": [
    {
     "data": {
      "text/html": [
       "<div>\n",
       "<style scoped>\n",
       "    .dataframe tbody tr th:only-of-type {\n",
       "        vertical-align: middle;\n",
       "    }\n",
       "\n",
       "    .dataframe tbody tr th {\n",
       "        vertical-align: top;\n",
       "    }\n",
       "\n",
       "    .dataframe thead th {\n",
       "        text-align: right;\n",
       "    }\n",
       "</style>\n",
       "<table border=\"1\" class=\"dataframe\">\n",
       "  <thead>\n",
       "    <tr style=\"text-align: right;\">\n",
       "      <th></th>\n",
       "      <th>date</th>\n",
       "      <th>name</th>\n",
       "      <th>age</th>\n",
       "      <th>city</th>\n",
       "      <th>state</th>\n",
       "      <th>rating</th>\n",
       "      <th>title</th>\n",
       "      <th>review</th>\n",
       "      <th>hours</th>\n",
       "      <th>partners</th>\n",
       "      <th>page</th>\n",
       "      <th>multiple_partners</th>\n",
       "      <th>single_partner</th>\n",
       "      <th>solo</th>\n",
       "      <th>pets</th>\n",
       "      <th>french</th>\n",
       "    </tr>\n",
       "  </thead>\n",
       "  <tbody>\n",
       "    <tr>\n",
       "      <th>0</th>\n",
       "      <td>2018-02-13</td>\n",
       "      <td>Joe W</td>\n",
       "      <td>35.0</td>\n",
       "      <td>Chicago</td>\n",
       "      <td>Illinois</td>\n",
       "      <td>5</td>\n",
       "      <td>Great Mattress</td>\n",
       "      <td>We visited the Chicago store in Fulton Market....</td>\n",
       "      <td>8</td>\n",
       "      <td>Sleeps with a partner</td>\n",
       "      <td>1</td>\n",
       "      <td>False</td>\n",
       "      <td>True</td>\n",
       "      <td>False</td>\n",
       "      <td>False</td>\n",
       "      <td>False</td>\n",
       "    </tr>\n",
       "    <tr>\n",
       "      <th>1</th>\n",
       "      <td>2018-02-13</td>\n",
       "      <td>J</td>\n",
       "      <td>33.0</td>\n",
       "      <td>Boston</td>\n",
       "      <td>Massachusetts</td>\n",
       "      <td>5</td>\n",
       "      <td>Highly Recommend</td>\n",
       "      <td>Ive had my previous mattress for YEARS (WAY ov...</td>\n",
       "      <td>8</td>\n",
       "      <td>Sleeps solo</td>\n",
       "      <td>1</td>\n",
       "      <td>False</td>\n",
       "      <td>False</td>\n",
       "      <td>True</td>\n",
       "      <td>False</td>\n",
       "      <td>False</td>\n",
       "    </tr>\n",
       "    <tr>\n",
       "      <th>2</th>\n",
       "      <td>2018-02-13</td>\n",
       "      <td>David Alessi</td>\n",
       "      <td>70.0</td>\n",
       "      <td>Owasso</td>\n",
       "      <td>Oklahoma</td>\n",
       "      <td>4</td>\n",
       "      <td>I like it but am still getting used to it.</td>\n",
       "      <td>The unboxing was a challenge but we managed. I...</td>\n",
       "      <td>7</td>\n",
       "      <td>Sleeps solo</td>\n",
       "      <td>1</td>\n",
       "      <td>False</td>\n",
       "      <td>False</td>\n",
       "      <td>True</td>\n",
       "      <td>False</td>\n",
       "      <td>False</td>\n",
       "    </tr>\n",
       "    <tr>\n",
       "      <th>3</th>\n",
       "      <td>2018-02-13</td>\n",
       "      <td>Jeanne Hamlin</td>\n",
       "      <td>66.0</td>\n",
       "      <td>Brownville</td>\n",
       "      <td>Maine</td>\n",
       "      <td>3</td>\n",
       "      <td>okay</td>\n",
       "      <td>The un-boxing was interesting.  I was disappoi...</td>\n",
       "      <td>8</td>\n",
       "      <td>Sleeps with a partner</td>\n",
       "      <td>1</td>\n",
       "      <td>False</td>\n",
       "      <td>True</td>\n",
       "      <td>False</td>\n",
       "      <td>False</td>\n",
       "      <td>False</td>\n",
       "    </tr>\n",
       "    <tr>\n",
       "      <th>4</th>\n",
       "      <td>2018-02-12</td>\n",
       "      <td>LETTY DELOACH</td>\n",
       "      <td>37.0</td>\n",
       "      <td>Live Oak</td>\n",
       "      <td>Texas</td>\n",
       "      <td>5</td>\n",
       "      <td>Finally found THE mattress!</td>\n",
       "      <td>I absolutely love my Casper mattress!  I was v...</td>\n",
       "      <td>8</td>\n",
       "      <td>Sleeps with a partner plus a cat</td>\n",
       "      <td>1</td>\n",
       "      <td>False</td>\n",
       "      <td>True</td>\n",
       "      <td>False</td>\n",
       "      <td>True</td>\n",
       "      <td>False</td>\n",
       "    </tr>\n",
       "  </tbody>\n",
       "</table>\n",
       "</div>"
      ],
      "text/plain": [
       "        date           name   age        city           state  rating  \\\n",
       "0 2018-02-13          Joe W  35.0     Chicago        Illinois       5   \n",
       "1 2018-02-13              J  33.0      Boston   Massachusetts       5   \n",
       "2 2018-02-13   David Alessi  70.0      Owasso        Oklahoma       4   \n",
       "3 2018-02-13  Jeanne Hamlin  66.0  Brownville           Maine       3   \n",
       "4 2018-02-12  LETTY DELOACH  37.0    Live Oak           Texas       5   \n",
       "\n",
       "                                        title  \\\n",
       "0                              Great Mattress   \n",
       "1                            Highly Recommend   \n",
       "2  I like it but am still getting used to it.   \n",
       "3                                        okay   \n",
       "4                 Finally found THE mattress!   \n",
       "\n",
       "                                              review  hours  \\\n",
       "0  We visited the Chicago store in Fulton Market....      8   \n",
       "1  Ive had my previous mattress for YEARS (WAY ov...      8   \n",
       "2  The unboxing was a challenge but we managed. I...      7   \n",
       "3  The un-boxing was interesting.  I was disappoi...      8   \n",
       "4  I absolutely love my Casper mattress!  I was v...      8   \n",
       "\n",
       "                           partners  page  multiple_partners  single_partner  \\\n",
       "0             Sleeps with a partner     1              False            True   \n",
       "1                       Sleeps solo     1              False           False   \n",
       "2                       Sleeps solo     1              False           False   \n",
       "3             Sleeps with a partner     1              False            True   \n",
       "4  Sleeps with a partner plus a cat     1              False            True   \n",
       "\n",
       "    solo   pets  french  \n",
       "0  False  False   False  \n",
       "1   True  False   False  \n",
       "2   True  False   False  \n",
       "3  False  False   False  \n",
       "4  False   True   False  "
      ]
     },
     "execution_count": 21,
     "metadata": {},
     "output_type": "execute_result"
    }
   ],
   "source": [
    "casper.head()"
   ]
  },
  {
   "cell_type": "code",
   "execution_count": 23,
   "metadata": {},
   "outputs": [
    {
     "name": "stderr",
     "output_type": "stream",
     "text": [
      "C:\\Users\\skick\\Anaconda2\\envs\\py36\\lib\\site-packages\\ipykernel_launcher.py:2: SettingWithCopyWarning: \n",
      "A value is trying to be set on a copy of a slice from a DataFrame\n",
      "\n",
      "See the caveats in the documentation: http://pandas.pydata.org/pandas-docs/stable/indexing.html#indexing-view-versus-copy\n",
      "  \n"
     ]
    },
    {
     "data": {
      "text/html": [
       "<div>\n",
       "<style scoped>\n",
       "    .dataframe tbody tr th:only-of-type {\n",
       "        vertical-align: middle;\n",
       "    }\n",
       "\n",
       "    .dataframe tbody tr th {\n",
       "        vertical-align: top;\n",
       "    }\n",
       "\n",
       "    .dataframe thead th {\n",
       "        text-align: right;\n",
       "    }\n",
       "</style>\n",
       "<table border=\"1\" class=\"dataframe\">\n",
       "  <thead>\n",
       "    <tr style=\"text-align: right;\">\n",
       "      <th></th>\n",
       "      <th>age</th>\n",
       "      <th>rating</th>\n",
       "      <th>hours</th>\n",
       "      <th>multiple_partners</th>\n",
       "      <th>single_partner</th>\n",
       "      <th>solo</th>\n",
       "      <th>pets</th>\n",
       "      <th>french</th>\n",
       "    </tr>\n",
       "  </thead>\n",
       "  <tbody>\n",
       "    <tr>\n",
       "      <th>0</th>\n",
       "      <td>35</td>\n",
       "      <td>5</td>\n",
       "      <td>8</td>\n",
       "      <td>0</td>\n",
       "      <td>1</td>\n",
       "      <td>0</td>\n",
       "      <td>0</td>\n",
       "      <td>0</td>\n",
       "    </tr>\n",
       "    <tr>\n",
       "      <th>1</th>\n",
       "      <td>33</td>\n",
       "      <td>5</td>\n",
       "      <td>8</td>\n",
       "      <td>0</td>\n",
       "      <td>0</td>\n",
       "      <td>1</td>\n",
       "      <td>0</td>\n",
       "      <td>0</td>\n",
       "    </tr>\n",
       "    <tr>\n",
       "      <th>2</th>\n",
       "      <td>70</td>\n",
       "      <td>4</td>\n",
       "      <td>7</td>\n",
       "      <td>0</td>\n",
       "      <td>0</td>\n",
       "      <td>1</td>\n",
       "      <td>0</td>\n",
       "      <td>0</td>\n",
       "    </tr>\n",
       "    <tr>\n",
       "      <th>3</th>\n",
       "      <td>66</td>\n",
       "      <td>3</td>\n",
       "      <td>8</td>\n",
       "      <td>0</td>\n",
       "      <td>1</td>\n",
       "      <td>0</td>\n",
       "      <td>0</td>\n",
       "      <td>0</td>\n",
       "    </tr>\n",
       "    <tr>\n",
       "      <th>4</th>\n",
       "      <td>37</td>\n",
       "      <td>5</td>\n",
       "      <td>8</td>\n",
       "      <td>0</td>\n",
       "      <td>1</td>\n",
       "      <td>0</td>\n",
       "      <td>1</td>\n",
       "      <td>0</td>\n",
       "    </tr>\n",
       "  </tbody>\n",
       "</table>\n",
       "</div>"
      ],
      "text/plain": [
       "   age  rating  hours  multiple_partners  single_partner  solo  pets  french\n",
       "0   35       5      8                  0               1     0     0       0\n",
       "1   33       5      8                  0               0     1     0       0\n",
       "2   70       4      7                  0               0     1     0       0\n",
       "3   66       3      8                  0               1     0     0       0\n",
       "4   37       5      8                  0               1     0     1       0"
      ]
     },
     "execution_count": 23,
     "metadata": {},
     "output_type": "execute_result"
    }
   ],
   "source": [
    "casper_subset = casper[['age', 'rating', 'hours', 'multiple_partners', 'single_partner', 'solo', 'pets', 'french']]\n",
    "casper_subset.dropna(inplace=True)\n",
    "casper_subset.astype(int, inplace=True).head()"
   ]
  },
  {
   "cell_type": "code",
   "execution_count": 24,
   "metadata": {},
   "outputs": [
    {
     "data": {
      "text/plain": [
       "KMeans(algorithm='auto', copy_x=True, init='k-means++', max_iter=300,\n",
       "    n_clusters=3, n_init=10, n_jobs=1, precompute_distances='auto',\n",
       "    random_state=None, tol=0.0001, verbose=0)"
      ]
     },
     "execution_count": 24,
     "metadata": {},
     "output_type": "execute_result"
    }
   ],
   "source": [
    "from sklearn.cluster import KMeans\n",
    "\n",
    "kmeans = KMeans(n_clusters=3)\n",
    "kmeans.fit(casper_subset)"
   ]
  },
  {
   "cell_type": "code",
   "execution_count": 25,
   "metadata": {},
   "outputs": [
    {
     "data": {
      "text/plain": [
       "KMeans(algorithm='auto', copy_x=True, init='k-means++', max_iter=300,\n",
       "    n_clusters=3, n_init=10, n_jobs=1, precompute_distances='auto',\n",
       "    random_state=None, tol=0.0001, verbose=0)"
      ]
     },
     "execution_count": 25,
     "metadata": {},
     "output_type": "execute_result"
    }
   ],
   "source": [
    "kmeans"
   ]
  },
  {
   "cell_type": "markdown",
   "metadata": {},
   "source": [
    "# Add in gender and location"
   ]
  },
  {
   "cell_type": "code",
   "execution_count": 34,
   "metadata": {},
   "outputs": [
    {
     "name": "stdout",
     "output_type": "stream",
     "text": [
      "male\n",
      "unknown\n"
     ]
    }
   ],
   "source": [
    "#import and test gender_detector\n",
    "import gender_guesser.detector as gender\n",
    "d = gender.Detector()\n",
    "print(d.get_gender(u\"Bob\"))\n",
    "print(d.get_gender('eDee'))"
   ]
  },
  {
   "cell_type": "code",
   "execution_count": 36,
   "metadata": {},
   "outputs": [
    {
     "name": "stdout",
     "output_type": "stream",
     "text": [
      "Flatiron Building, 175, 5th Avenue, Flatiron Building, Manhattan Community Board 5, New York County, NYC, New York, 10010, United States of America\n",
      "40.7410861 -73.9896298241625\n"
     ]
    }
   ],
   "source": [
    "#import and test location finder\n",
    "from geopy.geocoders import Nominatim\n",
    "geolocator = Nominatim()\n",
    "location = geolocator.geocode(\"175 5th Avenue NYC\")\n",
    "print(location.address)\n",
    "print(location.latitude, location.longitude)"
   ]
  },
  {
   "cell_type": "code",
   "execution_count": 46,
   "metadata": {},
   "outputs": [
    {
     "name": "stdout",
     "output_type": "stream",
     "text": [
      "['Joe', 'J', 'David', 'Jeanne', 'LETTY', 'Terry', 'Samantha', 'Jake', 'Ryan', 'Pamela', 'Jessica', 'Heather', 'Kristelle', 'Kelly', 'Dan', 'Tracy', 'Bryan', 'Julie', 'Adam', 'vince', 'Elizabeth', 'Dave', 'Janie', 'Rena', 'Carl', 'Chris', 'Bruce', 'Jacob', 'Erlene', 'Ron', 'D.', 'Bobby', 'Joelle,', 'Edward', 'Chris', 'Olivia', 'derek', 'Jamie', 'Cory', 'Katie', 'Caitlin', 'Bernadette', 'Kristy', 'Torrie', 'Susan', 'Grant', 'Jon', 'Edward', 'Stwve', 'Haley', 'Patrick', 'Carissa', 'Tom', 'James', 'Nate', 'Thonas', 'Diane', 'Deborah', 'Mario', 'Janet', 'Laurie', 'Chris', 'Roberta', 'Tina', 'Kunal', 'Nilda', 'Karen', 'J', 'Jason', 'damian', 'Harvey', 'Jason', 'Sydney', 'Steven', 'Casey', 'Matt', 'Clark', 'Glen', 'Anthony', 'Zeev', 'Megan', 'Michael', 'Jeff', 'Darrell', 'Shane', 'Kimberly', 'Dwayne', 'Luc', 'Martha', 'SHAron', 'Lance', 'George', 'mariella', 'Kristi', 'James', 'kelly', 'Rob', 'Nina', 'Nicole', 'M', 'Gina', 'jamey', 'Cheryl', 'Alicia', 'Matthew', 'Edward', 'Bryan', 'Zach', 'Kurt', 'kathy', 'Connie', 'Lucas', 'Will', 'Bill', 'Carl', 'Douglass', 'Falone', 'Julie', 'Christopher', 'Melody', 'Andy', 'Beth', 'Diana', 'Rebecca', 'Sophia', 'Bill', 'Frederick', 'Michael', 'Sarah', 'Ginny', 'Peter', 'Chris', 'Rachel', 'Taliatha', 'Dave', 'Robert', 'Patricia', 'Deb', 'Malwina', 'Laura', 'Camille', 'Chris', 'Hyder', 'Brandon', 'Claudia', 'Rea', 'Kat', 'Jason', 'Erich', 'Suzanne', 'Chad', 'C', 'Sunny', 'Jordin', 'Desiree', 'Joe', 'David', 'Barbara', 'Heidi', 'Martina', 'Mindy', 'K.C', 'Kendall', 'Stacy', 'Carl', 'Stefano', 'Aran', 'Terri', 'Richard', 'Hannah', 'Xi', 'Douglas', 'Jennifer', 'Steve', 'Sara', 'John', 'Tory', 'Bryan', 'Michelle', 'Deborah', 'Paul', 'Rachelle', 'Jimmy', 'Marvin', 'Harvey', 'Dave', 'Katie', 'Wayne', 'Jack', 'Joyce', 'Lauren', 'Stef', 'Jeanne', 'Saige', 'Ericson', 'Russ', 'Justin', 'Bonnie', 'ANTHONY', 'Destiny', 'Ron', 'Rodrigo', 'David', 'Berni', 'Annajeanelle', 'Ricardo', 'Kody', 'Susan', 'Clinton', 'samuel', 'George', 'Allan', 'Curt', 'Erik', 'Keith', 'Jennifer', 'Steven', 'Michael', 'Sheila', 'Megan', 'Eliza', 'Evan', 'Azfar', 'Robert', 'Charles', 'Margaret', 'PHAN', 'Rick', 'Hufrid', 'Joew', 'Brittany', 'Richard', 'Jon', 'Jim', 'Ray', 'Andy', 'Diane', 'Christy', 'Michael', 'Shey', 'Kenneth', 'Patty', 'leslie', 'kayla', 'Alex', 'Zadoc', 'Greg', 'Bruce', 'Kevin', 'John', 'Brook', 'Deanne', 'Mindy', 'James', 'Rasheed', 'Jesse', 'Kirsten', 'Joe', 'Carol', 'Holly', 'Alicia', 'MAGGIE', 'Cassie', 'Braden', 'Chris', 'Heather,', 'Kathleen', 'Lesley', 'Iverenice', 'Sandy', 'Yoyo', 'Karen', 'Diana', 'Alis', 'Ashley', 'Lee', 'David', 'Lynn', 'Lillian', 'David', 'Peyton', 'Darrin', 'Ryan', 'Rick', 'Jim', 'Charmmaine', 'Marjorie', 'Aran', 'The', 'Karl', 'Austin', 'Jon', 'Kyle', 'Robert', 'John', 'Susan', 'Jacques', 'Patty', 'Rudy', 'Esther', 'Sean', 'Homer', 'eric', 'Cameron', 'Tom', 'Jozef', 'paul', 'Roy', 'Tom', 'Toni', 'Agni', 'Dominic', 'Daniel', 'COLIN', 'Jonathan', 'Hailey', 'Craig', 'Pete', 'Henry', 'Lou', 'joy', 'Al', 'Matt', 'Ramzy', 'Diane', 'Mike', 'Elena', 'Jim', 'Eric', 'David', 'David', 'Sandra', 'Kimberley', 'Armando', 'John', 'andy', 'Michael', 'Terry', 'Donnie', 'Nima', 'Mike', 'Michael', 'Phill', 'NJ', 'Matt', 'Patrick', 'jamy', 'Damian', 'Matthew', 'Genevieve,', 'Louis-Philippe', 'Jen', 'jimmy', 'jammy', 'Carolyn', 'Richard', 'Susan', 'John', 'Brett', 'Bernadine', 'Cliff', 'Talib', 'Cynthia', 'Mallory', 'Maximiliano', 'Kristi', 'Matthew', 'Kimberly', 'Kyle', 'Chris', 'Regnery', 'Sophia', 'Stacy', 'Kirsten', 'Jeffrey', 'Nancy', 'Gaea', 'Diane', 'Barb', 'jeff', 'Angel', 'John', 'Sheila', 'Michelle', 'Stephen', 'Linda', 'Gil', 'Emily', 'Trisha', 'Ray', 'Robert', 'Ash', 'T.Givens', 'Mike', 'Betsy', 'Ting', 'Mark', 'Johnny', 'Maree', 'Richard', 'Sharla', 'Edward', 'Lola', 'Andrew', 'Larissa', 'Sylvie', 'Jackie', 'Sharon', 'Katie', 'Maryann', 'RONALD', 'Thomas', 'Tony', 'Brenda', 'Dianne', 'Susan', 'Eugene', 'Donna', 'Baris', 'C.', 'Rhonda', 'Anona', 'K', 'Nicole', 'Buddy', 'Jonathan', 'Joe', 'Katye', 'Aaron', 'Carol', 'bd', 'Nick', 'John', 'Tracey', 'Loy', 'chrus', 'Daniel', 'Seyi', 'Leia', 'Victor', 'Marg', 'Diane', 'PAUL', 'Jared', 'Dennis', 'Laura', 'John', 'Jonnie', 'Katie,', 'Orangey9', 'Deb', 'Melissa', 'Roberto', 'John', 'Ron', 'Seb', 'Ben', 'FRANKLIN', 'Amar', 'Jim', 'Jennifer', 'Emily', 'Mr.', 'Kristen', 'Ryan', 'Janice', 'Abby', 'Sam', 'Randy', 'Krissie', 'Maura', 'Emily', 'Laura', 'Matt', 'Zoran', 'Janice', 'Lizbeth', 'A.L.', 'Tim', 'Neida', 'khushal', 'Kelly,', 'Deb', 'Kirk', 'Paula', 'Miranda', 'Andrea,', 'Pamela', 'David', 'Ryan', 'Matthew', 'Joanne,', 'Cecelia', 'Nicholas', 'JB', 'Tobey', 'Laura', 'Daniel', 'Leroy', 'Tampa', 'Tammy', 'Mary', 'Ellen', 'Paul', 'John', 'Brittani', 'Frank', 'Daniel', 'Louis', 'Rhonda', 'Karen', 'Blake', 'Pearl', 'Bissell', 'Pref', 'Karla', 'Sharon', 'Lisa', 'Daniella', 'Sue', 'Chris', 'Larry', 'Hoyt', 'Paul', 'Larry', 'Joseph', 'Christopher', 'Lon', 'Michael', 'Nathan', 'James', 'Bill', 'Sabrina', 'Denise', 'Dylan', \"O'Neal\", 'Letitia', 'Dale', 'John', 'Ally', 'Susan', 'Jeanette', 'Marianne', 'Susan', 'lily', 'Melodie', 'Fasano,', 'Natalie', 'Danny', 'Teresa', 'Kaitlyn', 'Mike', 'Clis', 'Bridget', 'Michael', 'Bruce', 'Staci', 'Jeff', 'Christopher', 'Rene', 'Chuck', 'Sheila', 'Emma', 'Walter', 'Shandel', 'Kenneth', 'Charlie', 'charles', 'Eric', 'Stacey', 'Eric', 'Michael', 'Janet', 'Brian', 'Paul', 'Nancy', 'David', 'JG', 'Tony', 'R.', 'JASON', 'Steven', 'Mark', 'steven', 'John', 'Intl', 'Rodney', 'Bill', 'Barry', 'David', 'William', 'Andrew', 'Marti', 'Julio', 'Robin', 'Paul', 'Nancy', 'David', 'Tom', 'JOSEPH', 'William', 'D', 'Dave', 'Alycia', 'Hazel', 'Erin', 'Mercier', 'Karen', 'Carla', 'Melanie', 'Melissa', 'Grace', 'Nikki', 'Mark', 'ALAN', 'John', 'Josh', 'Stormie', 'J', 'Leonel', 'Sharon', 'Wiley/Conger', 'Jill', 'MARK', 'Sean', 'Lisa', 'Kristina', 'Laura', 'Adam', 'Barbara', 'Jeff', 'Lisa', 'Damian', 'Suzanne', 'Morgan', 'Justin', 'Kendall', 'Lola', 'Kara', 'Stephen', 'Josie', 'Ilene', 'Ricardo', 'Michael', 'Don', 'Timothy', 'Donna', 'Michael', 'Scott', 'Elisa', 'Jack', 'Rene', 'Colin', 'Jarred', 'Robert', 'Steve', 'David', 'Stacy', 'Cesar', 'Tom', 'Kathleen', 'Tom', 'Mindy', 'Erica', 'Barbara', 'Dorothy', 'Laura', 'Amanda', 'Pat', 'Sean', 'Jordan', 'Amanda', 'Philip', 'Chong', 'Richard', 'David', 'Gina', 'Seth', 'Jenna', 'Diane', 'Nancy', 'Joy', 'Henry', 'Leila', 'Victoria', 'Kurt', 'Stefanie', 'carla', 'JE', 'Ian', 'Rupp', 'darrel', 'Tahari', 'Zenith', 'Claude', 'Fred', 'Wanda', 'Brendan', 'Al', 'Richard', 'walter', 'Norberto', 'Kevin', 'Terri', 'Angela', 'Wendy', 'Pete', 'Mary', 'TAMMI', 'Noah', 'Amy', 'Marris', 'Max', 'Joshua', 'David', 'Alex', 'Kip', 'Samantha', 'Kayla', 'Shea', 'Michael', 'Peggy', 'Gary', 'Lois', 'Brian', 'Susan', 'Liz', 'Ashley', 'Sarena', 'Travis', 'Georgia', 'Jose', 'Gary', 'Trevor', 'Denise', 'Lauren', 'Angela', 'Elin', 'Kimberly', 'Michell', 'Mike', 'JK', 'Mark', 'Terry', 'Bill', 'Jeffrey', 'Andrew', 'Dave', 'Cecilia', 'Jan', 'Jane', 'Jordan', 'Beth', 'Michael', 'Michelle', 'Christopher', 'Joslyn', 'Abby', 'Ruby', 'Roland', 'Melissa', 'Claire', 'Chris', 'Amanda', 'Fiorella', 'CLC', 'Vicki', 'Patrick', 'Noel', 'Kevin', 'Leighanne', 'Michele', 'Victoria', 'Ryann', 'Sara', 'Suzanne', 'Joe', 'Catherine', 'Joe', 'Jeffrey', 'Mariana', 'Sue', 'Ryan', 'donald', 'Dan', 'Tom', 'Miles', 'Brad', 'Alicia', 'David', 'Dru', 'Nancy', 'Brett', 'Sandra', 'KEN', 'Dana', 'Jennifer', 'Donald', 'Shannon', 'Ryan', 'Peter', 'Cory', 'Melissa', 'Gisele', 'Kent', 'K', 'Laura', 'Julia', 'Taj', 'Jan', 'Joseph', 'Eugene', 'Robert', 'Becky', 'Stacey', 'Vicki', 'James', 'anne', 'John', 'Jocelyn', 'Cheryl', 'Gabrielle', 'Catherine', 'kevin', 'Nancy', 'Derek', 'Nelson', 'Ben', 'Monica', 'Ingrid', 'Don', 'Colleen', 'Tim', 'Rebecca', 'Dan', 'Sarah', 'Raul', 'Tom', 'Ryan', 'Ladell', 'Toni', 'Sean', 'Elizabeth', 'James', 'Annalee', 'CJ', 'David', 'Leah', 'David', 'Mark', 'Robert', 'Ryan', 'Mary', 'Deanna', 'Deborah', 'Quentin', 'Kenneth', 'Richard', 'Debbie', 'Mike', 'Jason', 'Marco', 'Comfortable', 'Andy', 'anna', 'Tom', 'bandon', 'Louise', 'Damon', 'Noah', 'Michael', 'Alfred', 'Pat', 'Lou', 'Scott', 'Marianna', 'David', 'Allison', 'Gretchen', 'Ann', 'joie', 'Steve', 'Thomas', 'Wiebke', 'May', 'Austin', 'Noelle', 'Jacob', 'Brian', 'Spencer', 'YR', 'William', 'Anissa', 'John', 'Derek', 'Derek', 'Brian', 'Mary', 'Greg', 'Tracy', 'DRowe', 'Jackie', 'Kristin', 'Eric', 'Kathy', 'Sylvia', 'Bob', 'Cindy', 'Amy', 'marilyn', 'Kate', 'Gerry', 'Martha', 'Tessa', 'Briann', 'Mary', 'Amy', 'Silvi', 'George', 'Nathan', 'Jonathan', 'Melanie', 'C.', 'Brian', 'Natalie', 'Erika', 'David', 'Monique', 'Ryan', 'Christine', 'Amber', 'Brian', 'Marissa', 'Renee', 'SONJA', 'Natalie', 'Joseph', 'Tristan', 'Dave', 'Damien', 'Amy', 'Lisa', 'Elly', 'Shana', 'Ellen', 'charlotte', 'Dianna', 'Michelle', 'Csaba', 'Jason', 'Shane', 'Gary', 'Brian', 'Olivia', 'Donna', 'Chip', 'Martie', 'Joy', 'Dawn', 'Krista', 'Brett', 'Nancy', 'Gay', 'Sherry', 'Todd', 'Lesplin', 'Beau', 'Tom', 'Nate', 'Jini', 'Phil', 'Kaliel', 'Ryan', 'Pouya', 'Alan', 'Michelle', 'Cara', 'Evan', 'Lisa', 'NancyVarga', 'Cheryl', 'Cat', 'Riley', 'Lisa', 'Quintin', 'Laura', 'steve', 'Dakota', 'Joshua', 'Nate', 'Cathy', 'Bob', 'Elizabeth', 'JOHN', 'Daniel', 'Benjamin', 'Sergio', 'Vicki', 'R.W', 'Todd', 'Luke', 'Cheryl', 'Kirk', 'Denise', 'Nathan', 'Kim', 'Boris', 'Steven', 'Barbara', 'Phillip', 'Kyle', 'Lyle', 'Susie', 'Ken', 'Buddy', 'Linda', 'Jose', 'Chris', 'Sherry', 'Jeff', 'Karen', 'John', 'James', 'Sonja', 'Thomas', 'Sherri', 'Bethany', 'Trudy', 'Joel', 'Mary', 'lynne', 'Marlon', 'Katie', 'Joy', 'Raymond', 'Gregor', 'Jerry', 'Ray', 'Gerald', 'Towne', 'Rochelle', 'Kevin', 'Nelson', 'Bridget', 'Charles', 'Michael', 'Adam', 'Erin', 'Jay', 'Dennis', 'Suzi', 'Carolyn', 'Vicky', 'Peter', 'Charles', 'Tracy', 'Jennifer', 'Katherine', 'Lucien', 'Linda', 'Robert', 'Robert', 'Brandon', 'Greg', 'Marian', 'Patricia', 'David', 'Melissa', 'james', 'Matt', 'Dave', 'Jennifer', 'Andy', 'Adam', 'Dennis', 'Rich', 'mike', 'Don', \"D'Arcy\", 'Joan', 'Linda', 'Howard', 'Carlos', 'Rachel', 'Joyce', 'Evan', 'Jeff', 'Melissa', 'Scott', 'Jennifer', 'David', 'Kyle', 'John', 'Alyssa', 'Aaron', 'Madelaine', 'Quan', 'Quinn', 'Richie', 'Mark', 'Robert,karen', 'Ian', 'Amanda', 'Chris', 'Bobby', 'Andrea', 'Stephen', 'Mike', 'Melia', 'Philip', 'Vincent', 'Ludwig', 'Spencer', 'Gerald', 'Kennetha', 'Logan', 'Richard', 'Logan', 'Katherine', 'Gerald', 'Ian', 'Wendy', 'David', 'Carolyn', 'Mae', 'Alicia', 'Monik', 'Bunky', 'stephanie', 'John', 'Bonnie', 'Mark', 'Kaitlin', 'Natalie', 'John', 'Laura', 'David', 'lorenzo', 'Shawn', 'Ron', 'Jazzmine', 'Sarah', 'Wanda', 'Amy', 'James', 'Serge', 'Craig', 'Stephanie', 'Jenny', 'Mark', 'Carla', 'Joe', 'Brandon', 'Joanne', 'Amy', 'Margaret', 'HOOTS', 'Loren', 'Carolyn', 'Yolanda', 'Bruce', 'Richard', 'Cindy', 'HAPPY', 'David', 'Marlena', 'Mark', 'Kevin', 'Dan', 'Carlo', 'Annie', 'Toni', 'Damon', 'Karen', 'Walter', 'RJ', 'David', 'Deborah', 'Lauren', 'William', 'Jason', 'Brett', 'Kai', 'H.E.', 'Jeff', 'Christopher', 'Teressa', 'Tim', 'Ruthie', 'Monika', 'Holly', 'Stephanie', 'Betsy', 'Christi', 'Dave', 'Aaron', 'Tabatha', 'Renee', 'Chris', 'Diane', 'Katie', 'Clarence', 'Amy', 'J&L', 'Kerri', 'Lance', 'Josephine', 'Craig', 'Nathan', 'Pamela', 'Sarah', 'Karen', 'Tara', 'Josh', 'Shawn', 'Lisa', 'owin', 'Adam', 'Adam', 'Andrew', 'Libby', 'The', 'Ammar', 'Freida', 'Karen', 'Jen', 'Kristina', 'Charles', 'Alice', 'Heather', 'Debbie', 'James', 'Wendy', 'Maggie', 'Maia', 'Victoria', 'Tony', 'Ron', 'Fred', 'Leandra', 'Kristi', 'Jennifer,', 'Lisa', 'Terd', 'Crissida', 'Melissa', 'Wahab', 'Scott', 'Susan', 'Chelsea', 'Jordan', 'Mark', 'Shelley', 'Tracy', 'Michael', 'Sonya', 'Shane', 'Colleen', 'CW', 'Jackie', 'Diana', 'Linda', 'Alper', 'KND', 'Dennis', 'Betsy', 'Shelly', 'ANNE', 'Adelle', 'lindsey', 'Klaus', 'Kristin', 'Ariel', 'David', 'Brian', 'Brian', 'Joe', 'Andras', 'Matt', 'Alana', 'Cherie', 'David', 'Joe', 'Catherine', 'Terry', 'Joe', 'Allison', 'Calvin', 'Steven', 'Mandy', 'JEREMY', 'Erin', 'Tracey', 'J&N', 'Mike', 'Mike', 'Tyler', 'Colin', 'James', 'Elizabeth', 'Tanya', 'Laura', 'Chris', 'Sue', 'Keelia', 'Sue', 'Brigid', 'Donna', 'Carmen', 'Kamal', 'Heather', 'Ellen', 'Susan', 'Becky', 'james', 'Robert', 'Paul', 'Judith', 'Rachel', 'John', 'Cynthia', 'Emily', 'Colleen', 'Christine', 'Kathleen', 'Terry', 'Michele', 'Marisa', 'Shelby', 'Nancy', 'Erik', 'Steven', 'Mary,', 'John', 'Spencer', 'Laura', 'Amanda', 'Jane', 'Jim', 'Ariane', 'Johnny', 'Kristina', 'Phil,', 'Lynn', 'Rickey', 'Sandra', 'Sarah', 'Rolland', 'Vishak', 'Dawn', 'James', 'Erik', 'Ken', 'Roger', 'Jon', 'Thomas', 'Susan', 'dickie', 'Bill', 'Danielle', 'justine', 'daniela', 'Elizabeth', 'Lori', 'Margaret', 'Jim', 'Steven', 'David', 'Jan', 'Neal', 'Jen', 'Mickey,', 'Joe', 'Ira', 'Joey', 'Esty', 'Ro', 'Janice', 'Luke', 'Kelly', 'Max', 'Charlie', 'Dale', 'Betsy', 'Robert', 'johnnie', 'kim', 'Allan', 'Kevin', 'Scott', 'Rachelle', 'Ronald', 'Mary', 'Earl', 'Jennifer', 'Kelly', 'Josie', 'Darryl', 'James', 'Jan', 'Jimmy', 'Peggy', 'Kayla', 'Jordan', 'Aaron', 'Cathryn', 'Lindsay', 'Visar', 'Joelle', 'lets', 'Katrina', 'Mario', 'Joy', 'jerome', 'Terry', 'Lynnette', 'NKHT', 'Nick', 'Amelia', 'Terral', 'Mary', 'Robert', 'Esther', 'Kathleen', 'Scott', 'Victoria', 'Joshua', 'Richard', 'David', 'Marcus', 'Stefanie', 'Carolyn', 'H', 'William', 'Rene', 'Jimmy', 'James', 'Dean', 'Lynda', 'Benoit', 'Steve', 'Rachel,', 'mark', 'Amanda', 'matt', 'doug', 'Aniana', 'Florine', 'Matthew', 'Kevin', 'Matthew', 'ASHLEIGH', 'Kathryn', 'Elizabeth', 'John', 'Gregg', 'Michelle', 'Walter', 'Camille', 'Tom', 'Walter', 'Eric', 'John', 'Erin', 'Adam', 'Appurv', 'Melvin', 'Anita', 'julie', 'Anthony-Price', 'Gina', 'John', 'Stu', 'Phil', 'Karen', 'Michael', 'Michael', 'Rondii', 'EDWARD', 'Heath', 'Heather', 'NSW', 'Terry', 'Joseph', 'Cathy', 'Jacquelynne', 'Daniel', 'Johnny', 'E', 'Nora', 'Mariana', 'Priscilla', 'Angie', 'Lisa', 'Pauline', 'Mike', 'Janet', 'Brenda', 'Theresa', 'Jenn', 'Patty', 'Patty', 'Dustin', 'Ross', 'Mike', 'Rodney', 'Samera', 'Robert', 'Jennifer', 'Ashlyn', 'Nancy', 'Brian', 'Jason', 'Sandra', 'marcy', 'Felicity', 'Caitlin', 'Leonard', 'james', 'Matthew', 'Barry', 'Judi', 'Marc', 'Matt,', 'Denton', 'Susan', 'Bubbie', 'Jean', 'Ken', 'Stacey', 'Amber', 'Donna', 'Lena', 'Davidson', 'Shawn', 'Judy', 'Joseph', 'Lisa', 'Paul', 'Danielle', 'Brenda', 'Brynn,', 'scott', 'Brian', 'Chad', 'Simone', 'Simone', 'D.', 'Russ', 'Bob', 'Marcy', 'Kevin', 'Christine', 'Jack', 'Kelly', 'Jordan', 'Jennifer', 'Sanford', 'Greg', 'Brandy', 'Eli', 'Emery', 'Daan,', 'Emily', 'Pedro', 'Karen', 'Karen', 'Ally', 'Robyn', 'Heather', 'Dena', 'Lee', 'Walt', 'Greg', 'Jessica', 'Scott', 'Guadalupe', 'Laura', 'Sherry', 'Dina', 'Richard', 'Samera', 'Stephen', 'Terry', 'Ryan', 'Jennifer', 'Jeff', 'Elizabeth', 'Christopher', 'Iva', 'Kandis', 'William', 'J', 'Alex', 'Schona', 'Mark', 'Alan', 'Shawn', 'Russ', 'Michel', 'Mark', 'Karen', 'Greg', 'Tim', 'Rosa', 'Anna', 'Richard', 'Jerry', 'Matthew', 'Landon', 'Landon', 'Christy', 'Jim', 'Todd', 'Brian', 'Bill', 'Lindsay', 'Sheryl', 'Kevin&Linda', 'John', 'Marianne', 'Marshal', 'Betsy', 'Sean', 'Marco', 'Melissa', 'Dinah', 'John', 'Barb', 'Leah', 'Joseph', 'Mark', 'Conans', 'John', 'Andre', 'Scott', 'Lauren', 'Sri', 'Gary', 'Meagan', 'Miriam', 'David', 'Vishal', 'George', 'Engin', 'Darlene', 'Jonathan', 'Margaux', 'Antonio', 'Susan', 'Craig', 'Crystal', 'Tanya', 'NANCY', 'Michael', 'Jocelin', 'Dale', 'Mari', 'Michael', 'Joe', 'Victoria', 'Carolyn', 'Shawn', 'Joann', 'Jacson', 'Caleb', 'Natasha,', 'James', 'Kristin', 'Jackie', 'Kathy', 'Scott', 'Michael', 'Ann', 'janet', 'Brad', 'Jennifer', 'Diba', 'Jordan', 'Paul', 'Juan', 'Elizabeth', 'Curtis', 'Adam', 'Molly', 'William', 'Wade', 'Joel', 'Bandita', 'Applause', 'JAVIER', 'Janaki', 'Jean', 'Chris', 'Carol', 'Alicia', 'Walt', 'Michelle', 'Amy', 'Lorri', 'C.', 'Peter', 'Lena', 'William', 'Keely', 'Peter', 'Margaret', 'Lindsey', 'Crystal', 'Crystal', 'Cheyenne', 'Lisa', 'Cyrus', 'Kelly', 'Henry', 'Steve', 'Amanda', 'Brian', 'Laurie', 'Jennifer', 'Carolyn', 'Cola', 'Elisabeth', 'barry', 'Cody', 'James', 'K', 'Christina', 'Chris,', 'Adrien', 'Melody', 'Justin', 'Shayla', 'Bunty', 'Rachel', 'Wade', 'Jim', 'Noemi', 'Luca', 'Marty', 'Rob', 'Miranda', 'Matt', 'Barb', 'Mike', 'Kelly', 'Brooke', 'Denise', 'Marcia', 'Felipe', 'Oliver', 'George', 'Elaine', 'Mike', 'Skyler', 'Erin', 'Alex', 'Judy', 'Chris', 'Loreley', 'Carol', 'Jason', 'Kelli', 'Jaime', 'Tyler', 'Jeanne', 'Chris', 'Dave', 'Mukta', 'Evan', 'TJ', 'att', 'Anna', 'Ryan', 'Masako', 'Jared', 'Joe', 'Dale', 'Stacy', 'Scott', 'Jeni', 'lisa', 'Elizabeth', 'Doris', 'Brinley', 'Lindi', 'Sam', 'Mary', 'Michael', 'Beth', 'stephanie', 'CAROLINE', 'Travis', 'Jan', 'Kirk', 'Pierre', 'John', 'Miranda', 'Jessica', 'Kaley', 'Vienna', 'Kristy', 'Lisa', 'Marcus', 'Harvey', 'James', 'Morgan', 'Adrien', 'Rob', 'Diane', 'Vladimir', 'Laura', 'Dorothy', 'Dan', 'Jason', 'bill', 'Harvey', 'C.J.', 'Jim', 'Norman', 'Danny', 'phani', 'Peter', 'Chris', 'Maureen', 'Tony', 'Lucas', 'Kumar', 'Kevin', 'Paul', 'Michael', 'Kyle', 'Linda', 'Ralph', 'Cindy', 'Kate', 'Rob', 'Michelle', 'Richard', 'V.', 'Donald', 'Lauren', 'Debbie', 'Ttacy', 'Beth', 'Billy', 'April', 'Butch', 'Brenda', 'Joshua', 'Andrew', 'Daniel', 'James', 'Richard', 'Nick', 'Maddie', 'Daniel', 'katrina', 'Heather', 'Deborah', 'Korbo', 'Rance', 'Jackie', 'PF', 'Cornelia', 'Ron', 'Toshi', 'Raheem', 'Marcel', 'Tyra', 'Scott', 'Nat', 'Kait', 'Ben', 'Sweeny', 'Jamie', 'Susan', 'Ross', 'Carl', 'Steve', 'Meg', 'Patrick', 'Kenneth', 'Veerendra', 'John', 'Tom', 'Melinda', 'Jeffrey', 'Daniel', 'Anton', 'Nick', 'Daniel', 'Colin', 'Paul', 'Dr.', 'Rick', 'Larkin', 'carol', 'Mike', 'Johnel', 'Amanda', 'Janet', 'Bob', 'Todd', 'Kesslie', 'Angela', 'Amanda', 'Sharon', 'Francine', 'Jay', 'Al', 'Graham', 'Shawn', 'Jeanne', 'Alex', 'Brian', 'Raphael', 'Dean', 'Izzy', 'Jeffrey', 'Daniel', 'Taylor', 'Addy', 'Thomas', 'Haley', 'jay', 'Queen', 'Leon', 'Troy', 'Steve', 'Steve', 'Laurie', 'Joshua', 'Genevive', 'William', 'Michael', 'John', 'Alex', 'Joan', 'IM', 'Lindsey', 'Beth', 'Ken', 'Edmund', 'connie', 'CK', 'Bill', 'Ryan', 'Mike', 'Hannah', 'John', 'Jack', 'Mallory', 'Max,', 'Tim', 'Bretton', 'Caroline', 'Jamilah', 'Chris', 'Christine', 'Jean', 'Lawrence', 'Miguel', 'Devin', 'Andrea', 'joy', 'Brittany', 'Brenna', 'Daniel', 'Nancy', 'Nick', 'RLG', 'Jennifer', 'Chloe', 'Scott', 'Randy', 'Martyna', 'Katie', 'Jim', 'Nicolette', 'Jose', 'Andrew', 'Lee', 'Chris', 'Cyndi', 'Keely', 'Josh', 'Brian', 'Meribah', 'Melissa', 'Barb', 'Shane', 'Andrea', 'Despina', 'Jamie', 'Geoffrey', 'Michelle', 'Chip', 'Ani', 'Diana', 'Nina', 'Joseph', 'Ayush', 'Tyler', 'John', 'Gideon', 'Ervin', 'Bianca', 'Tracy', 'Martin', 'Steve', 'Dirk', 'Jerry', 'Monica', 'Mike', 'Nick', 'Sarah', 'Dean', 'Robert', 'Don', 'jeffrey', 'Paul', 'Kevin', 'Maria', 'Amanda', 'David', 'Linda', 'Chris', 'Christopher', 'Angel', 'Samantha', 'Denise', 'Matthew', 'David', 'Donald', 'David', 'Brandice', 'John', 'Eric', 'Alex', 'Cory', 'B', 'Luther', 'NS', 'Bob', 'Kimberlee', 'Miller', 'Kimberly', 'Lucius', 'Megan', 'Michael', 'William', 'Paul', 'Jesse', 'Nicole', 'Stephen', 'Lana', 'Christopher', 'April', 'Rebecca', 'asaf', 'Liz', 'Marietta', 'Anthony', 'SusanPerry', 'Warren', 'Sean', 'Garth', 'Timothy', 'The', 'Ryan', 'Mary', 'Linda', 'Iris', 'Wes', 'Chris', 'John', 'Randy', 'Doug', 'Hugo', 'David', 'Joel', 'David', 'Cristy', 'Vern', 'Tymeke', 'Tom', 'Michael', 'Joshua', 'Ross', 'Gabriel', 'Edward', 'Stephen', 'Joe', 'Cliff', 'Kelly', 'Lindsey', 'Irma', 'Judy', 'Audrey', 'Karen', 'swinter', 'Dave', 'The', 'Gladys', 'Antonio', 'Mike', 'Mary', 'Scott', 'Johnny', 'Sean', 'Kim', 'Rod', 'Grace', 'Andrew', 'Doug', 'Eric', 'Ryan', 'David', 'Francis', 'Lacy', 'Michael', 'Jon', 'John', 'Maureen', 'Tiffany', 'Geraldina', 'Zach', 'Ted', 'Kevin', 'Jake', 'Teresa', 'michelle', 'Terri', 'Brenda', 'Kris', 'Sue', 'Christiina', 'Ryan', 'terri', 'Tina', 'Joe', 'Susan', 'Allan', 'Shane', 'Ana', 'Doug', 'Bridget', 'Cynthia', 'Coe', 'Mildred', 'Mary', 'Marcel', 'Liz', 'Eric', 'Mark', 'Topher', 'ANGELICA', 'Gillian', 'Lee', 'Liam', 'Stuart', 'Rick', 'Natalie', 'Sara', 'Hannah', 'Jordan', 'Kathy', 'Liz', 'James', 'Gayle', 'Dana', 'Zack', 'Tony', 'Annice', 'R', 'Kindra', 'Dan', 'Heather', 'Lili', 'David', 'Susan', 'Brandon', 'Julia', 'John', 'Jeff', 'Jarret', 'Steven', 'Paula', 'Charles', 'Denise', 'Sheri', 'Jessica', 'Kyle', 'Jason', 'GRETCHEN', 'Michael', 'Holly', 'Jason', 'Jeff', 'Ladd', 'Raven', 'Jason', 'Shrinal', 'Troy', 'kevin', 'Eddie', 'Abbie', 'Clovis', 'Ivan', 'David', 'Ashley', 'Jaime', 'Michael', 'Andrew', 'Amy', 'Michael', 'Joeanna', 'Sarah', 'Matt', 'Kim', 'Robert', 'Thomas', 'Sherry', 'Kelly', 'Susan', 'Philippe', 'Steve', 'Aurora', 'Jim', 'Kevin', 'Wendy', 'Charlotte', 'Ron', 'Yoelby', 'James', 'Jose', 'Chris', 'Kerryn', 'Kristina', 'Rae', 'Jon', 'Dave', 'Frank', 'Omer', 'Trisha', 'Claire', 'Ruben', 'Emily', 'Pavan', 'Erin', 'Gregory', 'Scott', 'Tina', 'AJ', 'hannah', 'Heather', 'Shannon', 'Lizette', 'Samantha', 'Denise', 'Marc', 'Mary', 'Kassia', 'Jorge', 'Sean', 'Cynthia', 'Derek', 'Christopher', 'Alexander', 'Lindsay', 'Dave', 'Ttoy', 'Harry', 'J', 'Rebecca', 'Noah', 'Dennis', 'Brian', 'Kirsten', 'James', 'Dave', 'Lauren', 'Malorie', 'Raymond', 'Kkm', 'Janelle', 'Alexis', 'Eric', 'Zac', 'Susan', 'Sam', 'Adam', 'Alex', 'Jordan', 'June', 'Dana', 'maxwell', 'Alex', 'Shaunessy,', 'Krystine', 'Danielle', 'Marta', 'Carlee', 'Sam', 'Dave,', 'Tom', 'Shannon', 'Sharon', 'Stephanie', 'James', 'Myron', 'Marcus', 'Akash', 'Leah', 'Molly', 'WiL', 'Yessica', 'A.B', 'Nicole,', 'Kathy', 'Charlie', 'Lisa', 'Bram', 'jess', 'Joel', 'David', 'James', 'J', 'Michel', 'Roberta', 'Diana', 'Keiko', 'Russell', 'Eric', 'Alexus', 'Rachael', 'Stan', 'Amy,', 'Ellie', 'Josh', 'Bigi', 'Dr.', 'Mary', 'Ricardo', 'Jovanna', 'Gary', 'Shelley', 'Jessica', 'Erick', 'VALERIE', 'Carol', 'Megan`', 'James', 'Marci', 'Sarah', 'Clarence', 'M', 'Elizabeth', 'Robyn', 'Kevin', 'Juliana', 'JASON', 'Susan', 'David', 'allison', 'TCM', 'Adam', 'Davis', 'Allison', 'Nicole', 'Leila', 'Leann', 'Martin', 'Henry', 'Misty', 'Jeff', 'DanMoore', 'Aaron', 'Micheal', 'Genevieve', 'Pete', 'Kweri', 'Cindy', 'Tiffany', 'Tim', 'Sue', 'Ray', 'Caroline', 'Marcy', 'Ricardo', 'Trenton', 'Eileen', 'Amber', 'Robbie', 'Elena', 'David', 'Edward', 'David', 'Liz', 'Marcus', 'Rachel', 'Megan', 'Russell', 'Kyle', 'Michael', 'Dean', 'Jenna', 'Francine', 'Jim', 'Debra', 'Donald', 'Rocky', 'Phyllis', 'Michael', 'Jodi', 'Javier', 'Jim', 'Dean', 'Chris', 'Mark', 'Carolina', 'Byron', 'Denton', 'Justin', 'Ashley', 'Carol', 'Katie', 'Pam', 'Talon', 'Chana', 'Bill', 'Jane', 'Tom', 'Marcus', 'Bradly', 'jeff', 'Roy', 'Vickie', 'Shawn', 'Kiersten', 'Daniel', 'Wendy', 'Steph', 'Jourdan', 'Rosemary', 'Jen', 'Shannon', 'Michael', 'Sonia', 'Joseph', 'Linda', 'mary', 'paul', 'Don', 'Steve', 'Amanda', 'David', 'Eugene', 'Christian', 'Renee', 'Melissa', 'Karen', 'Tanya', 'John', 'Larry', 'PETER', 'Ted', 'Julie', 'SANDI', 'margaret', 'Andy', 'Brian', 'David', 'Mike', 'Mary', 'AJA', 'Nicole', 'Kaylee', 'Travis', 'Suq', 'Jenny', 'Frank', 'Jordan', 'Ian', 'Josh', 'Mr', 'Thomas', 'Eric', 'Catherine', 'Charlie', 'JP', 'Jennifer', 'Andrew', 'Elaine', 'Will', 'Roland', 'Kristen', 'Tara', 'Kyle', 'Jenny', 'Natasa', 'Mark', 'Michael', 'Fred', 'Amy', 'Gerarda', 'Tyler', 'Todd', 'Todd', 'Lars', 'Logan', 'Bethany', 'Matt', 'Jason', 'Ronnie', 'Barbara', 'Kim', 'Lee', 'Richard', 'Wendy', 'Philip', 'James', 'Sarah', 'Danny', 'Jami', 'Nick', 'Robert', 'Diego', 'Michele', 'Debra', 'Femi', 'Mike', 'Jason', 'Caryne', 'Austin', 'Dustin', 'Scott', 'Mary', 'Chris', 'Katherine', 'George', 'Stephen', 'Christina', 'Torey', 'Steven', 'Terrance', 'L', 'Nat', 'Marty', 'Leslie', 'Misha', 'Barbara', 'Gina', 'jules', 'mike', 'thomas', 'Zakhar', 'Leslie', 'Ileana', 'Danny', 'Billy', 'Kathryn', 'Ronald', 'Maddie', 'Wendy', 'Kayla', 'Greg', 'Ray', 'Paul', 'Laurie', 'Jon', 'Thomas', 'Teresa', 'Nicole,', 'Sandra', 'Maude', 'Hartley', 'Kevin', 'Grant', 'Claudia', 'James', 'Harkiran', 'Andrew,', 'Michele', 'Paul', 'Vanessa', 'Walter', 'Chad', 'Clare', 'Chad', 'Cristina', 'John', 'Caiti', 'Trude', 'Shirley', 'Ute', 'Henry', 'Sharon', 'Ed', 'Yvette', 'Caryl', 'Samantha', 'Nancy', 'deborah', 'Sheyna', 'N.', 'Carolyn', 'Lisa', 'Joyce', 'Daniel', 'Ana', 'Carmel', 'Theresa', 'Caroline', 'Klein', 'Carmen', 'Lchristopher', 'Niha', 'Jeff', 'Bob', 'J', 'Daniel', 'Tim', 'David', 'Neil', 'Mathew', 'Gene,', 'Melissa', 'Rebekah', 'James', 'Morgan', 'Don', 'Kit', 'James', 'Mike', 'Deanna', 'Ryan', 'Sara', 'Andrew', 'Terri', 'Jonathan', 'Janet', 'Rob', 'Sarah', 'Ryan', 'Patrick', 'Emily', 'Mark', 'David', 'Broc', 'Laura', 'Steve', 'Jonathan', 'Mr', 'Mercedes', 'Jeff', 'KAREN', 'Barb', 'Dave', 'Karen', 'Kate', 'Andy', 'Ani', 'Shetal', 'Bryan', 'Madison', 'Red', 'Kassandra', 'Kevin', 'Ben', 'Paul', 'Scott', 'Bill', 'Michael', 'Elizabeth', 'Lauren', 'Lisa', 'Aaron', 'Oscar', 'Harvey', 'Michelle', 'Clayton', 'Angie', 'Amanda', 'Jeff', 'Thomas', 'Andy', 'Ahsan', 'Anita', 'Jon', 'Jeremy', 'Alan', 'Blaine', 'Jared', 'Noah', 'Dave', 'Cheryl', 'Tim', 'Elaine', 'Frank', 'Emmanuelle', 'Antoinette', 'Thompson', 'Scott', 'Emily', 'Santos', 'Brad', 'Matthew', 'Eric,', 'Sarah', 'Laura', 'Mouse', 'LuLu', 'Ebu', 'Wade', 'Suzy', 'Katie', 'stafford', 'Candy', 'Geoff', 'Alli,', 'Neil', 'John', 'Anthony', 'Tom', 'Dave', 'Trent', 'mona', 'Tom', 'Joshua', 'Kelsey', 'Logan', 'Bubba,', 'Desiree', 'Fae', 'Bill', 'Lee', 'Jennifer', 'Sara', 'Darrell', 'crystal', 'Donnie', 'Liz', 'Madelyn', 'Barbara', 'Kate', 'Tiger', 'Jon', 'Brittany', 'M', 'Whitney', 'K.', 'Lauren', 'Andrew', 'Shannon,', 'Melvyn', 'Patricia', 'Ted', 'Kate', 'Kaitlyn', 'Simone', 'George', 'Ken', 'robert', 'Jan', 'Alan', 'Christopher', 'Eric', 'John', 'Ricardo', 'Lowell', 'Rebecca', 'Connie', 'Keith', 'Lucas', 'Stephanie', 'Kristy', 'Kate', 'Monica', 'SEEMA', 'Paige', 'Guy', 'Diana', 'Bobbi', 'M', 'Kaye', 'Frieda', 'James', 'Gregg', 'John', 'Shawn', 'Miriam', 'Mark', 'Ken', 'Mo', 'Kenneth', 'Jen', 'Zuzana', 'Ryan', 'Mark', 'Josh', 'V', 'Shannon', 'Allison', 'Angie', 'Shannon', 'Ben', 'Charles', 'Nicholas', 'Jim', 'Heather', 'Erica', 'Jennifer', 'Doug', 'Jared', 'Cody', 'Jason', 'Randall', 'Andrew', 'Mr&Mrs.Gray', 'Jess', 'Brad', 'Enzo', 'Jed', 'Drew', 'Alexandra', 'Robert', 'Ashley', 'Les', 'Brad', 'Zach', 'Nora', 'Phil', 'Jake', 'Leigh', 'Elizabeth', 'Laura', 'Julia', 'Peggy', 'Jen', 'Justin', 'Jeffrey', 'Cathy', 'Douglas', 'linda', 'Linda', 'David', 'Jason', 'JasoCoburn', 'Randall', 'Chris', 'Carter', 'Bob', 'mary', 'Suzie', 'Chase', 'Nanette', 'Jennifer', 'Octavio', 'Mortensen', 'Michelle', 'Joel', 'Brandon', 'Nick', 'Herman', 'Gil', 'Alex', 'Zach,', 'Janette', 'William', 'Carole', 'Jonathan', 'Andy', 'Scott', 'Kevin', 'Daniel', 'Sarah', 'Samuel', 'lisa', 'Patricia', 'Thomas', 'Colette', 'Sunny', 'Brian', 'Hillary', 'Dale', 'Olena', 'Ronnie', 'Kimberly', 'Bryce', 'Chris', 'Darah', 'Allie', 'Justin', 'erin', 'Sean', 'Brad', 'J.', 'James', 'Abigail', 'Ryan,', 'Christy', 'Nick', 'Kaci', 'Jennifer', 'Ulysses', 'Yvonne', 'Michelle', 'Q.', 'Nicola', 'Melissa', 'Justin', 'Mary', 'Christine', 'Nancy', 'Fredy', 'Danny', 'D', 'Vincent', 'Megan', 'Mackenroths', 'Crystal', 'John', 'Karen', 'Taylor', \"LOLA'S\", 'Clay', 'Amy', 'Brady', 'Dwight', 'leonard', 'Jan', 'Matt', 'Jorge', 'Christine', 'Miguel', 'Peter', 'R', 'John', 'Mitchell', 'Cheryl', 'Jewell', 'Dale', 'J.Rake', 'Mary', 'Dave', 'Joe', 'Amy', 'Brenda', 'Cheryl', 'Ryan', 'Jim', 'Denise', 'Steve', 'Jade', 'Bruce', 'Lisa', 'Toni', 'Melissa', 'jay', 'J', 'JERRY', 'Russ', 'Tim', 'Marcy', 'Sheri', 'Liz', 'Marla', 'Stephen', 'David', 'Andrea', 'Darryl', 'Suzie', 'ray', 'Tiffaney', 'Sabrina', 'Josh', 'Hannah', 'Ray', 'Jason', 'jim', 'Jamison', 'Lauren', 'Joe', 'Allison', 'Rachael', 'Brandon', 'Meghan', 'May', 'Jay', 'Zo,', 'Rob', 'Rachel', 'David', 'A', 'Tim', 'Benjamin', 'Laura', 'Arash', 'cha-sun', 'Cristina', 'Tim', 'Robert', 'Gilly', 'Stanley', 'CF', 'Karen', 'Lee', 'Lewis', 'Ashton', 'Natasha', 'Marcela', 'Michelle', 'Theresa', 'Melissa', 'Bradley', 'Tim', 'Dana', 'Craig', 'Simone', 'Katie', 'Nora', 'Amanda', 'HEIDY', 'Angela', 'Mark', 'Trudie', 'Ievgen', 'Leesa', 'Robert', 'Scott', 'Elizabeth', 'Greg', 'David', 'Gabe,', 'mare', 'Randall', 'Ellis', 'Jacob', 'Jordan', 'Michelle', 'Tom', 'Matt', 'N', 'Brianna', 'Nate', 'Stephen', 'Kyle', 'Monika', 'Jeffrey', 'Tyler', 'Tiffany', 'DP', 'becca', 'Jon', 'James', 'Bert', 'nicole', 'Rae', 'Roger', 'James', 'Ryan', 'Alice', 'Scott', 'James', 'Mike', 'Nichole', 'Daniel', 'Jeff', 'Tayla', 'Alexander', 'Charles', 'Emily', 'Paul', 'George', 'Nicole', 'Munir', 'Renae', 'Jenny', 'Frank', 'Shanti', 'Emory', 'Emma', 'Ricc', 'Tracy', 'Carlos', 'Brian', 'Nicole', 'Joseph', 'John', 'Amber', 'Laura', 'Ralph', 'Crista,', 'Vicki', 'Galen', 'Anthony', 'Joe', 'Trong', 'Rachel', 'Patricia', 'Jim', 'Nina', 'Sara', 'Tim', 'Gregory', 'Larry', 'BP,', 'Anthony', 'Gregory', 'Nicholas', 'Kevin', 'Mike', 'Marybeth', 'Scott', 'Jason', 'Monique', 'Ellen', 'Jen', 'Diane', 'Juan', 'Chris', 'BP', 'Sue', 'Daniel', 'Alden', 'richard', 'Shea', 'David', 'Yasmine', 'Yasmine', 'Danielle', 'Manuela', 'Mark', 'D.', 'David', 'Cloud9', 'Nerses', 'The', 'S', 'Georgia', 'Steve', 'Kelly', 'Chris', 'Leigh', 'Aaron', 'Luke', 'Alejandro', 'Matthew', 'Jorge', 'Monique', 'Cheryllin', 'Megan', 'Kyle', 'Joe', 'LaVerne', 'Trent', 'Nicholas', 'edison', 'John', 'Lori', 'John', 'John', 'Dan', 'Robin', 'Katie', 'elizabeth', 'Kevin', 'Bayardo', 'Kim', 'Jackie', 'SGS', 'Louis', 'Jay', 'edward', 'Rick', 'Chris', 'Jesse', 'Jordan', 'Sal', 'Joseph', 'Dave', 'Whitney', 'Clifford', 'David', 'David', 'David', 'Brent', 'Christina', 'Ariana', 'Chantelle', 'Matt', 'ed', 'Madalon', 'Vidal', 'Rob', 'Maria', 'Jenny', 'Richard', 'Jim', 'Leslie', 'Julie', 'Antoinette', 'Adam', 'Dominic', 'Anthony', 'Curtis', 'Dave', 'Andrew', 'Kaitlyn', 'Ceryle', 'Kathy', 'Casey', 'Steve', 'Cheri', 'Lata', 'Morgan', 'Jen', 'Julie', 'Rosalinda', 'Dustin', 'Allison', 'Rhonda', 'Heather', 'C.', 'Steven', 'Mike', 'tom', 'The', 'maria', 'Collin', 'Jeremy', 'Simon', 'Tish', 'Catherine', 'Denise', 'ADELE', 'Eileen', 'Kerrie', 'Tyler', 'Buck', 'Brad', 'patrick', 'Anna', 'Julia', 'Marcia', 'Stephanie', 'Jennifer', 'Alicia', 'Julann', 'Kyle', 'Melissa', 'Hes', 'Heather', 'Mary', 'Charisse', 'Patti', 'Eric', 'James', 'linda', 'Isaac', 'David', 'Terry', 'Sheila', 'Keith', 'Andrea', 'Forrest', 'David', 'Susan', 'tammy', 'Eddie', 'William', 'Stephen', 'James', 'Andrew', 'Sarh', 'John', 'Jeff', 'Richard', 'Sarah', 'casey', 'Eloise', 'Laila', 'Chris', 'Hernn', 'Michael', 'Anne', 'Sarah', 'Roberto', 'David', 'Brittany', 'Grace', 'Chuc', 'Ginny', 'Stephen', 'Brian', 'Karen', 'Kat', 'April', 'Jessica', 'Alex', 'Nick', 'Gayle', 'Joanne', 'Lucy', 'Ashley', 'Bryson', 'Annabel', 'Tanner', 'Yeshey', 'Jennifer', 'Stephanie', 'AR', 'Spencer', 'Grant', 'Melissa', 'Meagan', 'Eric', 'Catherine', 'Keith', 'lauren', 'Joshua', 'Jessica', 'Ian', 'Sulman', 'Danielle', 'Jennifer', 'Hana', 'Joseph', 'Nick', 'Russell', 'Alex', 'James', 'Matt', 'Kiersten', 'Scott', 'Henry', 'J', 'Kathy', 'April', 'Obadiah', 'Steve', 'Jack', 'Charles', 'Magdalena', 'Autumn', 'Eric', 'John', 'T', 'Meghan', 'Ashley', 'Gabby', 'Michelle', 'kathy', 'Deacon', 'Jon', 'Tawney', 'Robert', 'Sasha', 'Donta', 'Cam', 'D', 'Ben', 'Thomas', 'Ryan', 'E', 'leith', 'Nathan', 'Nathan', 'Heather', 'Natalie', 'Dylan', 'Kevin', 'Michael', 'Justin', 'David', 'Kory', 'Charlie', 'Gregory', 'Kristin', 'Melissa', 'Crystal', 'Ryan', 'Jamie', 'J', 'Kristen', 'Wendy', 'Justin', 'Aly', 'Sandra', 'William', 'James', 'Will', 'Jesse', 'Adam', 'Lois', 'C', 'Joy', 'Christine', 'Ellie', 'Bob', 'Kevin', 'Michael', 'Cindy', 'Fedora', 'Polly', 'Derek', 'Isaac', 'Dale,', 'Maynard', 'Lynn', 'Mike', 'Roberta', 'Emily', 'Anne', 'Alana', 'Linda', 'Tracey', 'Barbara', 'Felix', 'Polly', 'Michael', 'Aaron', 'N', 'joan', 'Daphne', 'Mel', 'Sean', 'Ardis', 'Jason', 'Suzanne', 'Erin', 'Randy', 'Julane', 'Marcus', 'Joel', 'theresa', 'Hailey', 'Marlean', 'David', 'Anthony', 'Carol', 'Angel', 'Dan', 'James', 'Maria', 'Lowell', 'david', 'Liz', 'David', 'Shawn', 'Cheri', 'Melissa', 'Yolanda', 'Irvin', 'Christopher', 'Kip', 'Lo', 'Jack', 'Danny', 'Mariah', 'Connor', 'Tracye', 'Mathew', 'Jean', 'mike', 'Vlasios', 'Diana', 'Chrissy', 'Taylor', 'Joe', 'Amanda', 'Johanna', 'Chris', 'Sonny', 'Phillip,', 'KENNETH', 'Jason', 'Janna', 'Phillip', 'Jerry', 'Jon', 'Timothy', 'Jene', 'melissa', 'Blake', 'Jeanette', 'matt', 'Marissa', 'Brenda', 'Les', 'Doug', 'Justin', 'Taylor', 'John', 'Anthony', 'Todd', 'Benjamin', 'Jordan', 'Stacey', 'Cindy', 'Buck', 'Jamie', 'Brandon', 'Ashley', 'Ashley', 'RAYMOND', 'Sean', 'william', 'Kevin', 'SM', 'Elizabeth', 'Alon,', 'Peter', 'Francine', 'Anna', 'Dave', 'Allison', 'Currie', 'LTakimoto', 'Jeff', 'Andrew', 'Leah', 'Jeff', 'Barbara', 'Ben', 'Thomas', 'Al', 'Lorna', 'Jason', 'A.', 'Alim', 'Kurtis', 'Jana', 'Jeffrey', 'Scott', 'Sarah', 'Kim', 'KERRY', 'Andrew', 'HJS', 'Dr', 'gabriel', 'Jessica', 'Ivan', 'Ryan', 'kenneth', 'Debee', 'Casey', 'Casey', 'chris', 'Marc', 'Michael', 'Buzz', 'Vincent', 'Benny', 'Jesica', 'David', 'Ken', 'william', 'Matthew', 'Yuri', 'Deborah', 'Rus', 'Katie', 'Clarence', 'ashley', 'andrew', 'Tonya', 'Peter', 'Davida', 'Scott', 'Ross', 'william', 'S.', 'Manuel', 'Monica', 'CJ', 'Michael', 'Eric', 'Maxwell', 'Kim', 'Barbara', 'Heidi', 'Amber', 'Ben', 'Andrea', 'Brett', 'Doris', 'Dan', 'nancy', 'Sandi', 'Spencer', 'Talia', 'Marycate', 'nate', 'Jonathan', 'ryan', 'Robert', 'Yogeeswaran', 'Molly', 'Zach', 'Amelia', 'Erin', 'Debra', 'FERNANDO', 'Saman', 'Kristen', 'Carlos', 'Duane', 'Brandon', 'Mark', 'Matt', 'Gail,', 'Estrellita', 'Ozzie', 'Dallas', 'Bobbi', 'Tami', 'Karen', 'M', 'Lori', 'Carl', 'Jenn', 'Mike', 'Corinna', 'ramona', 'Keelan', 'Shana', 'Jay', 'Stephen', 'Grace', 'Justin', 'Kelly', 'Christine', 'A', 'Laurie', 'Charles', 'Cas', 'Luke', 'Jenna', 'Dean', 'Chris', 'Daniel', 'Spiros', 'Jennifer', 'Aaron', 'Virginia', 'Natasha', 'adele', 'Kimberly', 'Caleb', 'The', 'Luther', 'Megan', 'Tessa', 'Melanie', 'Laura', 'James', 'Sharon', 'Karen', 'Lynn', 'Burton', 'Tyler', 'G', 'Bernard', 'Doris', 'Rochelle', 'Laura', 'Adam', 'Ken', 'Lisa', 'Robert', 'Johann', 'Audrey', 'Sharon', 'Tamra', 'Tyler', 'Dan', 'Larry', 'Sandy', 'Martina', 'Beverly', 'Carl', 'Paul', 'Kaoko', 'Thayne', 'Colleen', 'Sam', 'Ronald', 'Lea', 'Tim', 'Kelly', 'Jeff', 'Lindsey', 'Katelyn', 'Jonathan', 'Dorie', 'Cora', 'Jeff', 'Linnea', 'Bernardo', 'Dina', 'Henry', 'Agnes', 'Rob', 'Heghan', 'Chris', 'Phillip', 'Teresa', 'Rikki', 'Benny', 'Barbara', 'Jeanne', 'Ryan', 'Gracelyn', 'Corinne', 'Anthony', 'Greg', 'Arlie', 'Don', 'Robert', 'Tara', 'Jason', 'Cyndi', 'M.', 'Steven', 'Julie', 'Brian', 'Dan', 'Cheryl', 'Sheldon', 'Brett', 'Mary', 'Bernadette', 'Joe', 'michelle', 'Noorjahan', 'Patrick', 'Krista', 'Rick', 'Scott', 'Joshua', 'Reiner', 'Caleb', 'David', 'Damian', 'Yaya', 'Dave', 'Eli', 'Erin', 'David', 'Dorothy', 'Catherine', 'Carolyn', 'David', 'Francine', 'Johnny', 'Michael', 'Matt', 'Blake', 'Lisa', 'Justin', 'Teresa', 'Eve', 'Brady', 'Christina', 'Kim', 'Amber', 'D.', 'Lindsay', 'Dave', 'Roger', 'Matt', 'Anthony', 'Andrea', 'Dominick', 'Wyatt', 'Kylie', 'Mycal', 'Nicholas', 'Rachelle', 'David', 'john', 'Maja', 'Ronald', 'Robert', 'Holly', 'James', 'Jessie', 'Kathy', 'Kathy', 'Lydia', 'Kris', 'Paul', 'CD', 'Ryan', 'Dan', 'Lorne', 'Roselyn', 'Jeremy', 'Wil', 'Joy', 'Plato', 'Jodie', 'Nancy', 'Leif', 'Brian', 'Erin', 'Ellen', 'Robert', 'Mari', 'Dena', 'Laetitia', 'Stephanie', 'Jeff', 'Ryan', 'Edith', 'Adam', 'Jane,', 'Monica', 'Maggie', 'Jo', 'Christopher', 'Kristin', 'Brynne', 'colleen', 'Scott', 'Evelyn', 'M&L', 'Bengie', 'Alan', 'Gator', 'Sutton', 'Mark', 'Erika', 'Marcy', 'stephen', 'Andrew', 'Frank', 'Mark', 'Brittney', 'Jane', 'Shelby', 'Alex', 'Matt', 'Steve', 'Chasta', 'Vikas', 'Ruth', 'Melissa', 'Annaliese', 'Corey', 'Wendy', 'John', 'Allison', 'Taylor', 'Larry', 'Gwen', 'Vicki', 'Monika', 'Wayne', 'MARK', 'Diane', 'Greg', 'Rose', 'Karl', 'Steve', 'Eric', 'Jodi', 'Jessica', 'Nick', 'LuCinda', 'Dimitri', 'Israel', 'Casey', 'Kelly', 'Rose', 'Morgan', 'SUE', 'Catherine,', 'Rachel', 'Tommy', 'Troy', 'Ian', 'Jonathan', 'Chris', 'Joe', 'Angela', 'Della', 'Derek', 'Jeff', 'Jeff', 'Angie', 'Sahil', 'Denise', 'Cal', 'Suzanne', 'Suzanne', 'Josh', 'Ashley', 'Jean', 'Donna', 'Morgan', 'Adam', 'David', 'Amy', 'sem', 'Nicole', 'donnell', 'Kathy', 'Micki', 'Brady', 'Macrina', 'Josh', 'Brenda', 'Lynn,', 'David', 'Joshua', 'Les', 'Nori', 'AC', 'Tracy', 'Tamara', 'Betty', 'Bob', 'Bridger', 'Robin,', 'Tanya', 'Chuck', 'dave', 'Sheldon', 'Albert', 'Jeanne', 'Justin', 'Bart', 'SCOTT', 'Christopher', 'Dan', 'The', 'Nerm', 'The', 'Stephen', 'Janet', 'teddy', 'Chameng', 'Dillon', 'Bud', 'Michael', 'Jen', 'Leann', 'Todd', 'Eric', 'Andy', 'Alanza', 'Lauren', 'Barbara', 'Jason', 'jb', 'Mark', 'Ted', 'Charlie', 'Daniel', 'Pam', 'Mary', 'Marcelo', 'Melissa', 'Kenny', 'PT', 'Sarah', 'Robert', 'Gordy', 'Jared', 'Ronald', 'Danny', 'John', 'karina', 'jerry', 'Danny', 'David', 'Lucas', 'Dave', 'Frances', 'Craig', 'Jay', 'Patricia', 'Bryan', 'Bob', 'Michael', 'Dee', 'Mary', 'Sherman,', 'Donald', 'Cory', 'Robin', 'Jill', 'Jeff', 'Karen', 'Jim', 'Luis', 'Alex', 'Barbara', 'Jennifer', 'Nate', 'susan', 'Christian', 'Craig', 'Fredrick', 'Customer', 'Tommy', 'Roberta', 'Joe', 'Don', 'Angel', 'Brad', 'Gail', 'Trevor', 'Ed', 'Miles', 'Brooks', 'marcus', 'Kenny', 'Andrew', 'Kristin', 'Danielle', 'Butch', 'Jim', 'sean', 'Stanley', 'Pietro', 'Amber', 'Ana', 'Bill', 'Caroline', 'sue', 'Jasmin', 'Cam', 'Kevin', 'Andy', 'Billy', 'gaelan', 'Karla', 'Jerry', 'Margaret', 'Jheremy', 'Dennis', 'Nolen', 'Lisa', 'philip', 'Bearsy', 'Michael', 'Justin', 'RENEE', 'Chris', 'Bill', 'Shannon', 'Brent', 'Simona', 'Nikki', 'Christopher', 'Katie', 'Melanie', 'Kelly', 'Andy', 'Julie', 'Mike', 'Kimberly', 'Robert', 'J', 'Carly', 'Craig', 'Michael', 'Janet', 'Edward', 'Johanna', 'Mike', 'William', 'Ryan', 'John', 'Gerry', 'Justin', 'Shirah', 'Joshua', 'Dave', 'Dinna', 'Joel', 'Mason', 'Johnny', 'Michael', 'Rich', 'Mark', 'Mary', 'Barbara', 'Patrick', 'Tanya', 'Sue,', 'Susan', 'Rob', 'Brian', 'Thomas', 'Warren', 'John', 'John', 'Kirsten', 'Stephen', 'Shaun', 'Margaret', 'Alex', 'Mary', 'Jessica', 'Pascal', \"Covington's\", 'James', 'Steve', 'The', 'Ryan', 'Joey', 'Jim', 'N', 'Jason', 'Lily', 'Carlos', 'Jenny', 'Nissa', 'Alberto', 'R.P.', 'Natalie', 'Lawrence', 'John', 'Jamey', 'Daniel', 'Rick', 'Judi', 'Bryan', 'Stephanie', 'Brashly', 'Matt', 'Audra,', 'Shari', 'Will', 'Angela', 'Eric', 'Sara', 'Emily', 'Alonso', 'Thomas', 'Jaclyn', 'Darren', 'Carla', 'Daniel', 'Jennifer', 'Danee', 'Frank', 'Terry', 'Rose', 'Kurt', 'Colin', 'Mike', 'Bowers,', 'maureen', 'Kim', 'Mandy', 'Kristen', 'Orr', 'Amber', 'Rick', 'Rebecca', 'Chris', 'Lani', 'Dave', 'Manuel', 'Felicia', 'Scott', 'WILL', 'Bruce', 'Andrew', 'Sarah', 'Kate', 'Patrick', 'Kimberly', 'Tiffany', 'Nichole', 'Maksim', 'Martha', 'Andrew', 'Kyle', 'Younus', 'Liza', 'Franc', 'george', 'derek', 'Johanna', 'Nicole', 'Tony', 'LaKisha', 'Christopher', 'Justin', 'Tiffany', 'Bob', 'Dian', 'DAVID', 'Mallory', 'Joseph', 'Charles', 'Ida', 'Ron', 'Suzy', 'Shannnon', 'gator', 'Bill', 'Abe', 'Brian', 'Brian', 'Erica', 'Allen', 'Indigo', 'Brandon', 'Robert', 'Corley', 'Toshanna', 'Amy', 'Ruth', 'Mike', 'Steve', 'Athena', 'Christopher', 'Sabina', 'Enrique', 'MaryLee', 'Carolyn', 'John', 'Ron', 'Tom', 'Russell', 'Jennifer', 'Debbie', 'David', 'Alec', 'Marilyn', 'R', 'Kelly', 'Karissa', 'Matt', 'jake', 'Shanel', 'Noel', 'Nathan', 'Brian', 'Penn', 'Eric', 'Asher', 'Bill', 'Adam', 'Junior', 'Bob', 'Elisabeth', 'Tessa', 'Katie', 'Robert', 'Darrin', 'Joe', 'Chris', 'Scott', 'Sheree', 'Jamie', 'Janet', 'Bethany', 'Walter', 'Brenda', 'Denise', 'Samuel', 'Marvin', 'Katherine', 'Dave', 'Bruce', 'Michael', 'Constance', 'Leisa', 'Frank', 'Jean', 'Nate', 'Will', 'B', 'Ashley', 'Marvin', 'Neil', 'Gary', 'Lyle', 'Mark', 'Sandy', 'Cameron', 'Val', 'Phong', 'Jennifer', 'John', 'Ryan', 'Alice', 'Dean', 'Matt', 'Sandra', 'Michael', 'James', 'Kathryn', 'Mike', 'Linda', 'Cheryl', 'Desiree', 'Steven', 'brianna', 'Keils', 'Ronald', 'Armando', 'Chris', 'Mallory', 'Ed', 'Joshua', 'Eric', 'Debby', 'Renee', 'Zachary', 'Trevor', 'Matthew', 'Lyn', 'orlando', 'Stephanie', 'Brian', 'Dan', 'Carrie', 'Alex', 'Rob', 'Teresa', 'dan', 'Margaret', 'Geraldine', 'Mark', 'Clif', 'Drew', 'Vicki', 'Morgan', 'Dan', 'Tom', 'Matthew', 'Nicole', 'Kaylee', 'Terry', 'Patton', 'Bill', 'Danyel', 'KARL', 'Colleen', 'Patti', 'Victor', 'Tricia', 'Debi', 'Patty', 'Adrien', 'Claire', 'Myles', 'carly', 'Matti', 'William', 'Weda', 'Lori', 'Mike', 'Melissa', 'Tom', 'Abigail', 'Jason', 'Pauline', 'Evan', 'Debbie', 'Julia', 'Charles', 'Mike', 'Diane', 'J', 'Andy', 'Jens', 'Eva', 'Justin', 'sarah', 'Reiko', 'Bart', 'Ronald', 'James', 'Jessica', 'Michelle', 'Jack', 'Anne', 'Suzanne', 'Jonathan', 'Troy', 'Buzz', 'Stephanie', 'Bob', 'A.', 'Luke', 'John', 'Treva', 'Treva', 'Hassan', 'Kip', 'Amanda', 'Joab', 'James', 'Yomar', 'Micheal', 'Tim', 'D.', 'Matt', 'susan', 'Elizabeth', 'CHRIS', 'Justin', 'ivan', 'Jean', 'CONNIE', 'Jonathan', 'David', 'Adam', 'Jo', 'Diane', 'Bud', 'Steen', 'Carol', 'Erica', 'George', 'Audrey', 'Geissler', 'John', 'Michael', 'EmRuss', 'Gabrielle', 'CJ', 'Donna', 'Peter', 'Glenn', 'Simon', 'GARY', 'David', 'Guy', 'Manfred', 'Gene', 'Samantha', 'Maria', 'Grace', 'Cynthia', 'Tracy', 'Gayla', 'Bob', 'Janet', 'Mark', 'Jon', 'Robert', 'EdGaeta,', 'JR', 'kathy', 'Claudene', 'Lex', 'Darron', 'CM', 'penguin', 'Althea', 'Fred', 'Eric', 'Steve', 'Jan-Louise', 'Chris', 'Carey', 'John', 'Steve', 'Harry', 'Danielle', 'Ari', 'Gretta', 'Dan', 'Myron', 'Kendall', 'Danielle', 'Erin', 'Eli', 'Gary', 'Harvey', 'Joel', 'Connie', 'Robert', 'Karen', 'Cedric', 'Allison', 'Duane', 'Erik', 'Eugene', 'James', 'Darwin', 'Eric', 'john', 'Jasmin', 'Cory', 'Fernando', 'Ash_Dough', 'Cathy', 'Rob', 'Sean,', 'John', 'Larry', 'Dick', 'Jody', 'Cynthia', 'Dianna', 'Penny', 'Josh', 'Alex', 'Doug', 'ANGELA', 'Bri', 'John', 'mark', 'Larry', 'Diana', 'Ashleigh', 'Avi', 'Lisa', 'Lauren', 'Jan', 'Adam', 'Zee', 'Ericka', 'Tina', 'Robert', 'Lauren', 'William', 'Dee', 'Stacie', 'Lawrence', 'janet', 'charles', 'Samantha', 'Paul', 'Cindy', 'Nick', 'Sherri', 'Crystal', 'Nate', 'Dane', 'Eric', 'Mario', 'William', 'Diana', 'Eric', 'Mark', 'Dana', 'Austin', 'Kyle', 'Kayla', 'Laura', 'Eugene', 'L.B.', 'Annie', 'Jason', 'Niurka,', 'Robert', 'Joe', 'Raymond', 'Sterling', 'Marsha', 'David', 'Thomas', 'Eddie', 'Jeff', 'Georgana', 'JUSTIN', 'Kathy', 'Michelle', 'Jennee', 'N&N', 'Elizabeth', 'Gary', 'Brian', 'Eric', 'Gary', 'DB', 'Deborah', 'Thomas', 'Marty', 'The', 'Aaron', 'Jim', 'Steve', 'Mark,', 'Marie', 'John', 'Erica', 'Jensen,', 'Bill', 'Fatama', 'CHARLOTTE', 'rick', 'stuart', 'Ryan', 'Sleepness', 'Chad&Gina', 'Mary', 'Carmela', 'Ana', 'Sheri', 'Mary', 'Evie', 'Robert', 'Samantha', 'Mallory', 'Crystal', 'Yvonne', 'Bob', 'ron', 'Jesenia', 'Michael', 'Elvira', 'M&S', 'Brett', 'Jeff', 'Pierrette', 'Dillon', 'Jon', 'Ray', 'Stacie', 'Stephen', 'Laura', 'Susan', 'Alex', 'Erin', 'Roxanne', 'Linda', 'Courtney', 'Patricia', 'Stuart', 'Melissa', 'Jen', 'Becky', 'Andy', 'Tiffany', 'Justin', 'ron', 'Abby', 'Dennis', 'chris', 'Victoria', 'John', 'April', 'ROBYNE', 'Crystal', 'Jon', 'Hector', 'Larry', 'Tanya', 'Amanda', 'Brad', 'Colleen', 'Lynn', 'Bob', 'Michael', 'Kenji', 'Christine', 'Lisa', 'Zachary', 'Genna', 'Rae', 'Jan', 'Jason', 'Michael', 'Patrick', 'Colt', 'Mary', 'Rusty', 'John', 'Joe', 'La', 'Nicole', 'Caitlin', 'Jennifer', 'Jess', 'Mark', 'Tegan', 'Kathleen', 'Kendall', 'Michael', 'James', 'Ed', 'Alan', 'Alex', 'James', 'Stephanie', 'Sharon', 'Robert', 'Stacey', 'Traci', 'Kristyn', 'Gina', 'Chad', 'Loren', 'Amanda', 'Allison', 'Victor', 'Brady', 'Dennis', 'Scott', 'Shawn', 'James', 'Jan', 'Aaron', 'Jennifer', 'Lucky', 'Mechelle', 'Kev', 'Michael', 'Chrystal', 'Gina', 'Jen', 'Cooper', 'Jason', 'Brandon', 'Sherrie', 'john', 'Laurel', 'Randy', 'Brett', 'Max', 'Amanda', 'Nathan', 'Cory', 'Thelemarc', 'CHARLEY', 'Jason', 'Larry', 'Kimberly', 'Jeanna', 'Ken', 'Stacy', 'JT', 'Courtney', 'Mandy', 'Mike', 'Drew', 'Shannon', 'thila', 'Nekisia', 'Melissa', 'Chelsea', 'Charisse', 'Tom', 'Colin', 'Brent', 'Daniel', 'Holly', 'Ben', 'Marc', 'All', 'Kathy', 'Aliza', 'Nick', 'Kathy', 'Lauri', 'Gaylord', 'Luigi', 'Mark', 'Jack', 'Sandy', 'Gilberto', 'Alan', 'William', 'Brandan', 'bill', 'Belinda', 'Brandon', 'Jenn', 'Brandi', 'Christine', 'Joe', 'Austin', 'Jeff', 'Chris', 'Timothy', 'Ayaz', 'Antonio', 'Terry', 'Amanda', 'Nikki', 'Brian', 'Elizabeth', 'Patti', 'Brad', 'Blake', 'Braden', 'Zach', 'Michael', 'Cheryl', 'Ashley', 'John', 'Moiz', 'Brian', 'Chad', 'Pulkit', 'Barry', 'Bryan', 'Alan', 'Bill', 'Brittany', 'Brian', 'Cody', 'Caroline', 'Ahmad', 'Alyssa', 'Crow', 'Andy', 'Sangyoung', 'michael', 'R.', 'R.', 'teresa', 'Bob', 'Balaji', 'Marcus', 'Karen', 'Tanya', 'Ashley', 'Heath', 'Jason', 'Monica', 'Daniel', 'Kathy', 'Brian', 'Ed', 'Ed', 'Christen', 'Jesse', 'V', 'casey', 'Pavel', 'Chris', 'Ryan', 'Henry', 'James', 'Paulina', 'Thomas', 'Dennis', 'Jeff', 'Bybe', 'Cary', 'Michelle', 'Lauren', 'Patrick', 'Fredda', 'Lindsay', 'Madison', 'Margaret', 'J.T.', 'David', 'Morgan', 'Don', 'Kim', 'Eric', 'Melissa', 'Darrin', 'Paturious', 'Christine', 'Kim', 'Robin', 'Kayla', 'Jonathan', 'Kirbie', 'Brian', 'Jane', 'Eric', 'Justin', 'Teri', 'Richard', 'Anthony', 'Diana', 'Robert', 'Bobbie', 'The', 'Michael', 'James', 'Ms.', 'Andrew', 'Amanda', 'M.', 'Kevin', 'Michael', 'Mike', 'Ron', 'Janel', 'Richard', 'Lee', 'Baucum', 'Julie', 'Cheryl', 'Sharon', 'Karine', 'DORIS', 'chrisgb11@yahoo.com', 'Joan', 'Kirt', 'Maddi', 'Pearl', 'Leah', 'Aaron', 'Susan', 'Scott', 'Diana', 'Fabian', 'Bill', 'Matt', 'Sharlene', 'Tommy', 'Elaine', 'Brent', 'Achiro', 'Hilary', 'Orlando', 'Luke', 'John', 'Marc', 'Paula', 'Liesel', 'Ian', 'Dana', 'Kara', 'Duck', 'Nina', 'Christine', 'Endre', 'Sandra', 'Kriste', 'Keri', 'Dan', 'Charles', 'Dan', 'Matthew', 'Rene', 'Darlene', 'Michelle', 'Kathryn', 'Colin', 'Dana', 'Bronwyn', 'Tyler', 'Craig', 'Leonard', 'Sean', 'Charlie', 'Pedro', 'Andrew', 'V', 'Eileen', 'ken', 'Tom', 'Randy', 'Jon', 'Cyrille', 'George', 'Dan', 'Jeff', 'Jim', 'Patrick', 't', 'Chrissy', 'Sara', 'Roxanne,', 'Shayna', 'Julie', 'George', 'Aihua', 'Andrea', 'Maureen', 'Deborah', 'Jesus', 'Cara', 'Hugh', 'Micah', 'Sarah', 'MaxieMom', 'Joe', 'Amanda', 'John', 'Nicole', 'Walter', 'Brian', 'Sheree', 'Andrew', 'Shawn', 'Amanda', 'blake', 'Robert', 'Bryan', 'Katie', 'Mark', 'Charlotte', 'Giovanni', 'Kirsten', 'Kathy', 'Udaya', 'Jacob', 'Peggy', 'Todd', 'Anna', 'Sid', 'Wendy', 'Frida', 'Michael', 'vicki', 'Jhone', 'Robert', 'Alex', 'Benjamin', 'Melanie', 'Shawn', 'Emily', 'Pamela', 'Diane', 'Carmen', 'Fay', 'Milo', 'Bobby', 'Donna', 'Michelle', 'Kaity', 'Brent', 'andrea.mccormick@yaho...', 'Hobie', 'Trish', 'Adriana', 'Jane', 'Tracy', 'Kristen', 'Philip', 'Doug', 'Janice', 'Chris', 'Mackenzie', 'Bryan', 'Patrick', 'dennis', 'Robert', 'Lauren', 'Anna', 'Nicole', 'edith,john', 'jon', 'jon', 'D', 'Will', 'Amanda', 'Ken', 'Kathryn', 'Melissa', 'Jaime', 'Nicole', 'Jason', 'Sherry', 'John', 'Ted', 'Krysta', 'Roger', 'Benjamin', 'Patrick', 'Ryan', 'Maria', 'Loren', 'Jill', 'Nancy', 'Stephanie', 'Carol', 'Mike', 'Ryan', 'James', 'Alice', 'Danielle', 'Barbara', 'Lew', 'James', 'Ryan', 'Kristen', 'Stephen', 'Joshua', 'Brandon', 'mark', 'Kristen', 'Scott', 'Jessica', 'amanda', 'Diana', 'Emily', 'Kristine', 'Andrea', 'George', 'Christina', 'Anoosh', 'Jeff', 'Max', 'Vicki', 'Mark', 'Mary', 'Ben', 'Eduardo', 'Jen', 'Donna', 'J', 'Eva', 'chris', 'Terry', 'Belkis', 'Laurie', 'Dave', 'george', 'Danton', 'Brian', 'Branden', 'Kelly', 'Stephen,', 'BeverlyHoubein', 'Johnny', 'Jackie', 'janet', 'Dave', 'Jackie', 'Bert', 'Dave', 'Timothy', 'Linda', 'Ben', 'Jennifer', 'Elymm', 'Martin', 'Mike', 'Rian', 'Lauren', 'Mikey', 'Mikey', 'Ruth', 'Sam,', 'Yuhua', 'rahim', 'R.', 'Christopher', 'David', 'Mike', 'Mike', 'Vivian', 'Marisa', 'Khurram', 'Khurram', 'Betty', 'Bob', 'Kevin', 'Trish', 'Ian', 'Ari', 'Mike', 'Sebastian', 'Shona', 'Carey', 'Nicholas', 'Ashley', 'Adam', 'Rhonda', 'Frank', 'Grace', 'Bethany', 'Karen', 'Andrew', 'Teah', 'Crystal', 'David', 'Emerson', 'Greg', 'Jerry', 'Linda', 'Horacio', 'Mary', 'Coral', 'Ron', 'Ron', 'Catherine', 'Erik', 'Nick', 'Randy', 'Andrea', 'Scott.linet', 'Pete', 'Isabel', 'The', 'DC', 'Shivan', 'Robert', 'Janeth', 'Dan', 'chris', 'Chris', 'Aaron', 'barry', 'Kevin', 'Logan', 'dennis', 'Sheila', 'Nancy', 'Erik', 'Tyler', 'sid,karti', 'Jason', 'Ken', 'Rob', 'Janette', 'Todd', 'Melissa', 'Ray', 'Jon', 'Tom', 'Mike', 'David', 'Coach', 'Jrmy', 'Patrick', 'Heather', 'Kat', 'Sabirul', 'Juan', 'austin', 'Peggy', 'Scott', 'Tom', 'Thomas', 'Jerry', 'jillian', 'Robert', 'Darrell', 'Robert', 'Darryl', 'Alan', 'Kent', 'Matt', 'Drew', 'Ron', 'Charles', 'chase', 'Sandie', 'Jim', 'Debbie', 'Josie', 'John', 'Fermin', 'Pamela', 'Chris', \"'ol\", 'Ryan', 'Vicky', 'Courtney', 'Gregory', 'Vivian', 'Ty', 'John', 'Ken', 'Todd', 'James', 'Bill', 'childress', 'Matthew', 'Rollyn', 'The', 'James', 'Chris', 'Diane', 'Mary-Ann', 'Amy', 'Gary', 'Jackie', 'Phillip', 'Phillip', 'Lori', 'Jac', 'Donna', 'Brian', 'Linda', 'Brad', 'Scott', 'Ken', 'Valerie', 'Warren', 'Jordan', 'Sherap', 'Sarah', 'Eric', 'Victor', 'Alex,', 'Aubrey', 'Matthew', 'Justin', 'Katie', 'Elizabeth,', 'Cyndi', 'john', 'Sarah', 'Caitlin', 'Major', 'MIKE', 'Jamien', 'Jamien', 'Norma', 'Will', 'Chris', 'Paula', 'Brandon', 'Steve', 'Mandy', 'J.', 'Jerry', 'John', 'Jose', 'Nick', 'Amy', 'Richard', 'Lee', 'Steve', 'Carissa', 'Joey', 'Glenn', 'Chris', 'Matthew', 'Andrew', 'Sally', 'Patricia', 'Lore', 'Pete', 'Alex', 'Carrie', 'Taylor', 'Ellie', 'Jen', 'karsten', 'Carly', 'Kristin', 'Joe', 'Marilyn', 'Diego,', 'Katrina', 'Kevin', 'Kelly', 'Doug', 'Tanner', 'Cathy&John', 'Richard', 'Chuck', 'Arash', 'EnidSerrano', 'Fergus', 'Jenna', 'Jennifer', 'Ariane', 'jessica', 'Sue', 'David', 'Tanya', 'Rebecca', 'John', 'Karen', 'Kisha', 'Brian', 'Kevin', 'Naftuli', 'David', 'Bob,', 'Sabrina', 'Damon', 'C.', 'Jeff', 'Sunny', 'Mike', 'T.', 'David', 'Corey', 'Paige', 'Mark', 'henry', 'Barbara', 'Rick', 'Julie', 'Elizabeth', 'Patrick', 'Audrey', 'Abe', 'donna', 'BIGE', 'Amy', 'Gary', 'Danny', 'Dana', 'Beverly', 'RK', 'Iris', 'Meg', 'Bill', 'Creed', 'Joao', 'Tim', 'Andrew', 'Christina', 'Jeanne', 'Susan', 'Mike', 'Corey', 'Sleeping', 'Christopher', 'David', 'Kate', 'Martin', 'Debbie', 'David', 'Ruth', 'Virginia', 'Kevin', 'Casey', 'Charlene', \"Simpson's\", 'Steve', 'thomas', 'Brian', 'Christina', 'Jaime', 'Lee,', 'Thomas', 'Richard', 'Zayne', 'Albert', 'Alex', 'Russ', 'Jeff', 'Sean', 'Naomi', 'Jeremy', 'Jason', 'Stephanie', 'Lou', 'Myles', 'Todd', 'Paul', 'John', 'Mike,', 'Sally', 'Marshall', 'Michael', 'Joel', 'Lily', 'richard', 'stephen', 'Mike', 'Joe', 'Mark', 'Gary', 'Corey', 'Michael', 'Cole', 'David', 'Justin', 'Jess', 'Nathan', 'Harry', 'Charlie', 'Francis', 'JM', 'Jeff', 'Jim', 'Kat', 'Claudia', 'Sidney', 'Dan', 'David', 'Jeff', 'Dan', 'Nicholas', 'jason', 'Javier', 'Lauren', 'John', 'John', 'cyndi', 'Elizabeth', 'TV', 'Kathryn', 'Nick', 'Tia', 'Rebecca', 'James', 'Bryce', 'luke', 'Chan', 'Julio', 'Matry', 'Reed', 'Sarah', 'Terry', 'JC', 'Marcie', 'Melinda', 'JC', 'Charles', 'Raymond', 'Jordan', 'Robert', 'Patty', 'Nick', 'Wantly', 'Chris', 'Bill', 'Lesley', 'Stephen', 'Boris', 'James', 'Luca', 'Ken', 'Vivian', 'Aaron', 'Lewis', 'Tim', 'F', 'F', 'Joseph', 'Greg', 'David', 'Real', 'Keith', 'Holt', 'Adam', 'Shona', 'kathryn', 'Michael', 'Donna', 'Nina', 'Gary', 'Fredrik', 'Kevin', 'Bob', 'Benjamin', 'Carol', 'Mark', 'Tyler', 'Jordan', 'jim', 'Jethro', 'Grangers', 'John', 'Jennifer', 'l', 'Lynn', 'Mark', 'William', 'Thomas', 'Thomas', 'Libby', 'Jenny', 'Dawn', 'Michael', 'Joel', 'Kate', 'Pat', 'Chris', 'Stephen', 'Nancy', 'Paul', 'Sarath', 'Barbara', 'Mara', 'Amanda', 'Ashar', 'Megan', 'John', 'Billie-Jayne', 'Jean', 'mp', 'Rafael', 'Jordan', 'Roger', 'Daniel', 'Tip', 'Doug', 'Adrian', 'Julie', 'Lindsey', 'Kristen', 'Tyler', 'Andrea', 'Brad', 'Chris', 'Ryan', 'Nicole', 'Paige', 'The', 'Rodney', 'Sheri', 'Mike', 'Alan', 'Angela', 'Micah', 'L', 'Marc', 'Charlene', 'Kanani', 'Heather', 'Miguel', 'Terry', 'Joseph', 'Terry', 'Adam', 'Shawn', 'jade', 'Christopher', 'James', 'Paul', 'Henry', 'Jason', 'Patricia', 'Kevin', 'Cindy', 'Rob', 'Steve', 'Joe', 'Caitlyn', 'Maria', 'Mandy', 'lamar', 'Brad', 'Donna', 'Tina', 'Rachel', 'crystal', 'Linda', 'Tina', 'Bruce', 'Brittany', 'Keith', 'Paul', 'Scott', 'jt', 'Jane', 'Aaron', 'The', 'Jarod', 'John', 'D', 'Mike', 'Frank', 'Karl', 'Sarah', 'Shad', 'Kayleen,', 'Treacie', 'Deacon', 'Rich', 'Jay', 'Pamela', 'Joe', 'Maya', 'S', 'Michael', 'erman', 'Lee', 'Dan', 'Anonymous', 'Sharon', 'Pam', 'Sandy', 'Paul', 'chuck', 'Sheila', 'Jonathan', 'Dmen', 'ramey', 'Jennifer', 'Melodye', 'lauren', 'Ben', 'Daniel', 'Mia', 'Julie', 'Patricia', 'megan', 'Laura', 'Nicholas', 'Chris', 'Jake', 'Lauren', 'Maura', 'R', 'Alison', 'Lois', 'Stephen', 'Kelly', 'Kelsie', 'Lauren', 'Dani', 'Bryan', 'Laura', 'Lauren', 'Rick', 'Rev,', 'Lori', 'Lori', 'Tired', 'Tom', 'Keith,', 'Chris', 'John', 'Shannon', 'Sherry', 'J.', 'Mark', 'Doc', 'Brian', 'Alissa', 'Sherry', 'Eva', 'Ray', 'Andy', 'Jennifer', 'Alysha', 'Kelly', 'Erica', 'Jaspal', 'Juan', 'Billy', 'Frank', 'Nate', 'WAF', 'Robert', 'Kristyn', 'Shoegal', 'Trisha', 'Tony', 'Carey', 'Andrew', 'Jean', 'Jeffery', 'Diane', 'James', 'Vincent', 'Beverly', 'Chris', 'Megan', 'Juliet', 'Heather', 'Matthew', 'Annie', 'Tennille', 'Bijan', 'Sharon', 'Monica', 'Ruben', 'Debra', 'fred', 'Julia', 'Barbara', 'TAMI', 'Adeline', 'Wes', 'Bryan', 'Paige', 'Randy', 'Joe', 'Ronda', 'Shane', 'Claire', 'Amit', 'Marcia', 'Mark', 'Kyle', 'Ken', 'Janet', 'Kevin', 'JD', 'Ashley', 'Morgan', 'Abby', 'Marie', 'Barb', 'Mike', 'Paige', 'Mary', 'David', 'Michelle', 'Mike', 'Ceciil', 'Stacey', 'Nimish', 'Natalie', 'Lon', 'Gerald', 'Bayley', 'Mary', 'Thea', 'Bill', 'Bill', 'Anjan', 'Bryan', 'Scott', 'Joyce', 'Dennis', 'Joel', 'Crystal', 'KFranklin', 'Mary', 'Nina', 'Cammi', 'kenny', 'Jessamie', 'Renee', 'Tim', 'Sue', 'C.', 'Cindy', 'Casey', 'Ben', 'Bill', 'Abby', 'Leslie', 'Odrun', 'Alex', 'Bridget', 'Steve', 'Shivashankar', 'Aslan', 'Jason', 'Chris', 'Fen', 'Ross', 'James', 'Todd', 'nancy', 'Heather', 'Julianne', 'J', 'martin', 'Diana', 'S.', 'Angela', 'Darin', 'theresa', 'Ron', 'john', 'David', 'Brian', 'Jay', 'Rogerio', 'Giuseppe', 'Garret', 'Michael', 'Chris', 'Josh', 'jackie', 'Elizabeth', 'Lizzy', 'Roy', 'Kristie', 'Shir', 'Michael', 'L', 'aaron', 'Justin', 'Justin', 'Stuart', 'Kevin', 'David', 'Frannie', 'Stanley', 'Paula', 'Kate', 'Susan', 'Alan', 'Timbuk', 'Alis', 'Michael', 'Mehdi', 'Liz', 'Shane', 'Karen', 'Lucas', 'Ryan', 'Joan', 'Lee', 'Oscar', 'Corbin', 'Michaela', 'Frederick', 'Sandra', 'Azfar', 'Brian', 'nicole', 'Carin', 'Jordan', 'Jason', 'Mark', 'Sean', 'Kimberly', 'Maria', 'George', 'KathleenA', 'L.', 'Christopher', 'barbara', 'Michelle', 'Xuan', 'steve', 'Elizabeth', 'MaryAnn', 'Cheryl', 'Kevin', 'Michael', 'Michael', 'Rick,', 'Sue', 'Niccole', 'MH', 'carl', 'Nikki', 'Bronwyn', 'Allison', 'Liz', 'Renee', 'Ruby', 'Drea', 'Natasha', 'kevin', 'Jack', 'Joan', 'Beth', 'Cheyenne', 'Vance', 'Christina', 'Jess', 'David', 'Billie', 'Nigel', 'Paul', 'Neil', 'Chris', 'Wendy', 'Betty', 'Ryan', 'Miriam', 'Jaime', 'Michelle', 'Alex', 'Teresa', 'Stacey', 'Kathy', 'Erica', 'Tammy', 'Charlotte', 'Carly,', 'Terry', 'Betsi', 'Matt', 'Michael', 'Uzo', 'Kyle', 'Alan', 'Bitchcakes,', 'Marie', 'Viraj', 'Deirdre', 'David', 'Ryan', 'Matt', 'Paul', 'Sarah', 'jhon', 'Bonnie', 'Francine', 'Nick', 'Austin', 'Deborah', 'Sam', 'PD', 'Taylor', 'Mark', 'Susan', 'Kara', 'Richard', 'Bob', 'Tiffani', 'Heath', 'Alex', 'Michael', 'John', 'Jacquelyn', 'matthew', 'Samuel', 'Al', 'Don', 'Drew', 'Marta', 'Eva', 'Chad', 'Sarah', 'Dylan', 'Dayn', 'Kate', 'Kasey', 'Peter', 'Samantha', 'Michael', 'Bruce', 'Dr.', 'Jolene', 'Kate', 'Robert', 'Katie', 'Dan', 'Kimberly', 'James', 'Clint', 'Jen', 'Ryan', 'Leah', 'Mat', 'Jeremy', 'Ronnie', 'Judith', 'Karan', 'Leslie', 'Brendan', 'Megan', 'Melissa', 'Demi', 'Barbara', 'John', 'Pascal', 'Chris', 'Jeremy', 'Carol', 'Alan', 'Luke', 'Nathan', 'Ryan', 'Rebecca', 'Justin', 'Edward', 'Peter', 'Jess,', 'MATT', 'jeff', 'Robert', 'Rich', 'Terri', 'Matthew', 'Ashley', 'Alisa', 'Varghese,', 'John', 'Kelly', 'Jefferson', 'Mark', 'Domenica', 'Wayne', 'D', 'Katrina', 'Nessrine', 'Michael', 'Tania', 'Ian', 'Alison', 'William', 'Dave', 'Melanie', 'sean', 'Mike', 'Fredalee', 'C', 'Sarah', 'Cody', 'Chris', 'Reginald', 'Todd', 'Ed', 'Laura', 'Michelle', 'Bob', 'Michael', 'Bonnie', 'Maggie', 'Ernie', 'Chase', 'Kathryn', 'Colleen', 'Bethany', 'Greg', 'Eric', 'Lori', 'Doug', 'Cooper', 'dick', 'Nick', 'Mike', 'Liz', 'Barbara', 'Brenda', 'James', 'Niki', 'Fuming', 'R', 'Laura', 'Sonya', 'William', 'H', 'Megan', 'Cheryl', 'Roy', 'David', 'Patricia', 'Patricia', 'John', 'Katherine', 'Amy', 'Elliott', 'Jorge', 'Candace', 'Lauren', 'Jane', 'Sam', 'Cherry', 'Holly', 'Mattimore', 'Diana', 'Kate', 'Kate', 'Andy', 'Josh', 'Ginny', 'Van', 'Douglas', 'Niki', 'Allyx', 'Michelle', 'Michael', 'John', 'Camille', 'Michael', 'Kelly', 'Ingrid', 'Donald', 'Beverly', 'Beth', 'Amanda', 'Leigh', 'Jeff', 'Joseph', 'Phil', 'Holly,', 'Anonymous', 'Kelly', 'Summer', 'Marylou', 'Jackson', 'zeke', 'Chanan', 'Kelsey', 'Lynne', 'Drew', 'George', 'Tedd', 'Catherine', 'Erin', 'Francesca', 'Maria', 'Stephanie', 'Juan', 'Ben', 'Eric', 'Sofia', 'Laurie', 'Joe', 'James', 'Jayne', 'Ellen', 'Scott', 'Cakes,', 'A.', 'Ian', 'Michael', 'Rose', 'Lee', 'alan', 'Dan', 'Ryan', 'Diane', 'Nick', 'Stephen', 'Marty', 'Dwayne', 'Ian,', 'Ryan', 'Toast', 'Julia', 'Billy', 'Saul', 'Jennifer', 'Amanda', 'James', 'Aaron', 'Judson', 'Julie', 'Jonathan', 'Chanel', 'Andy', 'Davis', 'Mark', 'Lin', 'Mona', 'Jodi', 'John', 'S.', 'Rick', 'Michael', 'Stephen', 'Kevin', 'Andrew', 'martin', 'Val', 'Leah', 'George', 'Jim', 'Pan', 'Tina', 'Ben', 'Jessica', 'Ruth', 'Kim', 'Carolyn', 'Carol', 'The', 'Seth', 'joell', 'Chris', 'Cathleen', 'Chris', 'Darren', 'Ryan', 'ANDREA', 'Jordan', 'Melissa', 'jane', 'Caroline', 'Brooke', 'Susan', 'Emily', 'Steve', 'Wendy', 'Rob', 'Austin', 'Ben', 'R', 'Matt', 'Jamie', 'Gretchen', 'Matt', 'Katie', 'Rae', 'Emma', 'Jayden', 'Jeff', 'Andrea', 'Alex', 'Lauren', 'Tina', 'David', 'NB', 'Liam', 'Michael', 'Daniel', 'Devon', 'Bradley', 'Carol', 'Lynn', 'D', 'Gregory', 'Lance', 'Lynnis', 'Steve', 'danny', 'Philippe', 'Jacqueline', 'Jeanne', 'Greg', 'John', 'Casey', 'christina', 'Spenny', 'Sean', 'Jay', 'Johanna', 'Robert', 'Adrianne', 'Mike', 'Bruce', 'Gilfried', 'Ivan', 'Jonathan', 'R.', 'Mike,', 'Andi', 'Claudia', 'Scott', 'Ron', 'Melanie', 'Scarlet', 'Hjalti', 'Sandy', 'Angela', 'eoin', 'Benjamin', 'Mandi', 'Alexa', 'Bella', 'Erik', 'Michael', 'dk', 'Tanya', 'Jan', 'Pigzy', 'Jeff', 'Nate', 'Dave', 'Britt', 'Adrian', 'Dana', 'Robin', 'Chris', 'OR', 'Laurie', 'Lauren', 'Dale', 'Pam', 'Mary', 'Whitney', 'Amie', 'House', 'Chris', 'Michel', 'Joseph', 'Matthew', 'Brian', 'jc', 'Rachel', 'Michael', 'Henry', 'Kim', 'Garry', 'duane', 'Karen', 'Dylan', 'Virginia', 'Daniel', 'Stefan', 'Patrick', 'Lauren', 'Mansi', 'Sean', 'Laura', 'Meghan', 'James', 'Mike', 'Tanner', 'Stephan', 'Kevin', 'Barry', 'Henry', 'mark', 'Bev', 'Marty', 'Ashley', 'Doug', 'Elena', 'kristopher', 'Amy', 'Taylor', 'Nichole', 'Cindy', 'Shelley', 'Chris', 'Dee', 'Jennifer', 'Marie', 'Philip', 'Simon', 'Steve', 'Marseille', 'Monster', 'Rafael', 'Addison', 'Corey', 'Jennifer', 'K', 'Tom', 'Geoffrey', 'Gail', 'Lee', 'Sean', 'Stephen', 'Meg', 'Linda', 'SE', 'I', 'M.', 'Claude', 'Blake', 'Lawrence', 'Katherine', 'Sarah', 'Elisa', 'Aanika', 'Eric', 'Ann', 'Stanley', 'James', 'Joshua', 'Carl', 'trudy', 'Courtney', 'Mary', 'James', 'Joseph', 'Ronna', 'Adam', 'Beth', 'Amy', 'Ann', 'Greg', 'Jeff', 'KJ', 'Tracy', 'Rebecca', 'Brent', 'Jillian', 'Tom', 'Elia', 'Will', 'Ben', 'Nick', 'Jason', 'DeeAnn', 'Susan', 'David', 'Anthony', 'Otto', 'Franklin', 'Greg', 'Raghuvir', 'Thomas', 'Sue', 'Rachel', 'Alisa', 'Stella', 'Andrew', 'Ashley', 'Jennifer', 'Sami', 'Eric', 'Jessica', 'Mary', 'Erica', 'Naida', 'Fred', 'Himesh', 'Jocelyn', 'Mike', 'Geoffrey', 'Chris', 'Alicia', 'Ayla', 'Joslin,', 'Jackson', 'Brittney', 'WHITNEY', 'Keri', 'Brent', 'Dixon', 'Alexander', 'Angela', 'Patty', 'Barry', 'David', 'Paula', 'Naomi', 'Holly', 'Chris', 'John', 'Nelda', 'Ian', 'Alexis', 'Tina', 'Jason', 'Jamie', 'Elinor', 'Angie', 'Andrea', 'Jeff', 'Jacques', 'Kate', 'Richard', 'Juli', 'Grant', 'Scott', 'Rahul', 'Pat', 'John', 'Adam', 'Dan', 'Laura', 'Michael', 'Willie', 'Charlie', 'Gabe', 'Carolyn', 'Jason', 'Jay', 'Jessica', 'Bruce', 'Guy', 'Freddy', 'Kristen', 'Mary', 'Tony', 'Chris', 'Margaret', 'Trudy', 'mary', 'Julia', 'Ken', 'Jaaron,', 'Pat', 'Kelly', 'Jill', 'Mark', 'Suzanne', 'Logan', 'Chris', 'Andrew', 'Rena', 'Hillary', 'Patrick', 'David', 'Betty', 'Michelle', 'marshall', 'Dritan', 'Marcus', 'Daniel', 'JD', 'Josh', 'Auste', 'Steven', 'James', 'Madeleine', 'Corey', 'trudy', 'Craig', 'dale', 'dale', 'Todd', 'Ted', 'Dawn', 'Hisham', 'Roy', 'Timothy', 'Gary', 'Kyle', 'Vanessa', 'Marc', 'Bob', 'Earlene', 'Stephen', 'susan', 'Daniel', 'Diane', 'WHM', 'Kane', 'Kane', 'Genevieve', 'Betty', 'Cb', 'John', 'Pat&Carrie', 'Pat&Carrie', 'Linda', 'Alison', 'Pamela', 'Mark', 'Rachel', 'Tracy', 'Chris', 'Petra', 'Chris', 'L', 'Rachel', 'Rachel', 'Paul', 'Craig', 'Florencio', 'Terence', 'Kurt', 'Tonia', 'Chrissy', 'Lynda', 'Melissa', 'Jen,', 'Patrick', 'COMANDO', 'Sassy', 'Brandon', 'Ben', 'Rachel', 'Mitchell', 'Dave', 'Nick', 'Manny', 'Chris', 'David', 'Jim', 'Christopher', 'Mike', 'HelenBed', 'Elizabeth', 'Jennie', 'Jeremy', 'royce', 'royce', 'Dan', 'John', 'JAMES', 'Karl', 'Karen', 'Margo', 'Dan', 'Keith', 'Matt', 'Mischa', 'David', 'Steve', 'Jason', 'Al', 'Bruce', 'Scott', 'Clint', 'Elizabeth', 'Martin', 'Mary', 'Darrell', 'carolyn', 'steve', 'Chris', 'Barbara', 'Ajay', 'Anand', 'Courtney', 'Katy', 'Darlene', 'Andrew', 'Laura', 'Pete', 'Jordan', 'Debbie', 'Sarah', 'jane', 'VLT', 'Jerica', 'Justin', 'Karon', 'David', 'Diane', 'Will', 'Treva', 'Kenda', 'Mira', 'Aryn', 'Natalie', 'Rick', 'Diana', 'Li', 'Karen', 'John', 'Bianca', 'Kelsey', 'Kelsey', 'Mark', 'Tammy', 'Tammy', 'Lee', 'Henry', 'Eshwar', 'Bill', 'Mitch', 'H', 'Michael', 'Arun', 'Donna', 'Bev,', 'KM', 'Rick,', 'Patti', 'Douglas', 'Charles', 'Star,', 'Rob', 'Tom', 'Michele', 'Ira', 'Connie', 'Betsy', 'M.', 'Dustin', 'Jared', 'Katie', 'Sterling', 'Shane', 'John', 'Mike', 'Jeremy', 'DJ', 'Aaron', 'John', 'Maria', 'Greg', 'Samantha', 'Tyler', 'Kerry', 'Andrew', 'Roger', 'Jean', 'Christine', 'Jordan', 'Jason', 'Rick', 'T&M', 'Mike', 'Blanca', 'C.M.', 'Tony', 'Travis', \"Benjamin's\", 'Nina', 'Nicholas', 'James', 'Amy', 'Morgan', 'Codi', 'Lizzy', 'Travis', 'Mariano', 'Cameron', 'Michael', 'Diana', 'Nate', 'Annie', 'lillian', 'KL', 'Ronald', 'Robbin', 'Niral', 'Susan', 'Reid', 'Vivian', 'Esteban', 'Justin', 'Paul', 'Steve', 'Jeneen', 'Joseph', 'Brian', 'Alyssa', 'Sadie', 'Grant', 'Tony', 'Rochelle', 'Larry', 'Carol', 'John', 'Caitlin', 'Linda', 'Kory', 'Kathy', 'Jerry', 'Jack', 'Tom', 'Douglas', 'Brian', 'Lisa', 'Leonard', 'Kathryn', 'Shirley', 'Rachel', 'Egan', 'Kyle', 'Deborah', 'Diana', 'Chaz', 'Lou', 'Frank', 'Craig', 'Jane', 'Alex', 'Rebecca', 'Keith', 'Jane', 'M.', 'Stephen', 'Mary', 'Miguel', 'Sean', 'Kelle', 'antonio', 'Karen', 'Paul', 'Jimmie', 'Jack', 'Bob', 'Yevgeniy', 'Jesse', 'Texanish', 'Henry', 'Olivia', 'Mary', 'Kathleen', 'Christopher', 'Phil', 'Grace', 'Ed', 'Joe', 'J.', 'Robert', 'Daimeion', 'Kathlyn', 'Isabelle', 'Tyler', 'Ryan', 'Frank', 'Racheal', 'Beth', 'KEN', 'Natalie', 'Bryan', 'Phillip', 'Gisela', 'Lisa', 'Pat', 'Robert', 'Toby', 'Justin', 'ZK', 'Phil', 'Jane', 'Parker', 'Samuel', 'Matt', 'Casey', 'Russ', 'Mary', 'Mike,', 'Peggy', 'Gerardo', 'Kim', 'Brian', 'Karl', 'Floretta,', 'Erin', 'juan', 'Heather', 'Eric', 'Rita', 'Suzan', 'Fran', 'Danielle', 'Michael', 'Ryan', 'Vickie', 'Trey', 'Paige', 'Hailey', 'Michelle', 'Lisa', 'Gabe', 'Mike', 'Daniel', 'Marti', 'Pete', 'Phil', 'Holly', 'Matt', 'Rebecca', 'Carol', 'Karl', 'Deanise', 'Candy', 'Adam', 'Eugene', 'Paul', 'Paul', 'Shawna', 'Patrick', 'David', 'Chris', 'Ains', 'Yuvaraj', 'Veselina', 'Andrew', 'Ben', 'Sam', 'Dennis', 'Steve', 'David', 'Carole', 'Brandon', 'The', 'Graham', 'Eric', 'Josh', 'Hugo', 'Heather', 'Ryan', 'olivia', 'Jan', 'Michael', 'Sean', 'Pam', 'P.', 'Jason', 'Adrianne', 'Kandy', 'Lee', 'Daughter', 'Annie', 'Annie', 'Adam', 'TJ', 'Fred', 'Elisabeth', 'Brendan', 'Nick', 'Zac', 'Wade', 'Gabriel', 'Alejandro', 'Alex', 'Ron', 'Patrick', 'Emily', 'Amy', 'Harji', 'michael', 'John', 'suOm', 'Fred', 'Nick', 'Kristin', 'Alexis', 'Alexis', 'Erik', 'Bill', 'Christine', 'Jeroen', 'David', '-Alison', 'Jeremy', 'Renaud', 'Greg', 'Jim', 'Mike', 'Jenn', 'Micah', 'Bari', 'Michelle', 'Cassandra', 'Steve', 'Amy', 'Jon', 'Colin', 'Racheal', 'Steven', 'Maura', 'Julian', 'Frankie', 'Chris', 'Jordan', 'Barbara', 'Henry', 'David', 'Travis', 'Phil', 'Brad', 'Kevin', 'Diane', 'Shelley', 'Henry', 'Kevin', 'A', 'Paula', 'Suzan', 'Chad', 'Ricky', 'Kate', 'Sue', 'Reilly', 'Chris', 'vicki', 'Uzma', 'Aniqa', 'Tonya', 'John', 'Elizabeth', 'Joy', 'Gene', 'Justin', 'Darryl', 'Jen', 'Modaser', 'Jenni', 'kathleen', 'Luke', 'Sarah', 'Sarah', 'Jaime', 'Justin', 'Jenny', 'Gihan', 'Douglas', 'Teal', 'Chaz', 'Lance', 'Gerry', 'Diane', 'Chuck', 'Adam', 'Stephanie', 'Brian', 'Richard', 'Sealtiel', 'Merrilee', 'Sean', 'Teresa', 'Peggy', 'Michael', 'Kyle', 'Kyle', 'Dramane', 'Elizabeth', 'Preston', 'Sanae', 'Jeff', 'Caroline', 'Frank', 'Peter', 'Derek', 'Brian', 'Doug', 'Dicky', 'Tet', 'Steffanie', 'Olivia', 'Cameron', 'Aurelio', 'Thomas', 'Sarah', 'Dougie', 'Julian', 'Karolis', 'chris', 'Christine', 'Stephanie', 'Shane', 'Misha', 'Kevin', 'Scott', 'Karen', 'Zach', 'Kenzie', 'Don', 'Stella', 'Bob', 'Omar', 'Philip', 'Jeff', 'Douglas', 'Chris', 'Chris', 'R.', 'Jeff', 'Sharon', 'Adam', 'Peter', 'Daniel', 'Matt', 'Sue', 'Heather', 'Tom', 'Joseph', 'W.', 'Chris', 'Mike', 'Jody', 'Casey', 'Shannon', 'Steven', 'Barbara', 'Roy', 'Don', 'Evan', 'Scott', 'Lisa', 'Edward', 'Scott', 'Mark', 'thomas', 'Irene', 'Rick', 'Susan', 'Andrew', 'Leslie', 'Louise', 'George', 'Lynn', 'Jason', 'M', 'Shawn', 'Jeffrey', 'Paul', 'Emily', 'Angela', 'Brett', 'Alex', 'Heather', 'Sara', 'Balaji', 'Marco', 'Paul', 'Ben', 'Jodi', '\"Big', 'Jennifer', 'Rick', 'Erika', 'Andrew', 'Lisa', 'Megan', 'Jeff', 'Linda', 'Kylie', 'Bill', 'Sol', 'Albert', 'sabrina', 'Nadine,', 'Mark', 'Keith', 'J.', 'John', 'Sarah', 'D.', 'Robyn', 'Julie', 'Tracy', 'Katrina', 'Merve', 'Carma', 'Jon', 'Sara', 'Jayme', 'John', 'Susan', 'Winona', 'Robert', 'Jay', 'Judy', 'R.', 'Steve', 'Nancy', 'MJ', 'Sachi', 'Tommy', 'Laura', 'Eric', 'Angela', 'Brad', 'James', 'Georgeanne', 'Kim', 'Santiago,', 'Paul', 'Ali', 'Brian', 'Charles', 'Joseph', 'Amber,', 'Ben', 'Jennifer', 'Freddie', 'Jeffrey', 'Jeff', 'Zach', 'Ethan', 'Steve', 'Eddie', 'Travis', 'patty', 'Ann', 'Brittany', 'Robin', 'Glenn', 'Tim', 'Zan', 'Gary', 'Russ', 'Maria', 'Namik', 'Melanie', 'Melanie', 'F.', 'Jesse', 'Ryan', 'Steven', 'Eliana', 'William', 'Janet', 'N', 'V', 'Francisco', 'Kirby', 'Chelsea', 'Matt', 'Alexis', 'Cat', 'Arrowyn', 'Jaclyn', 'Cornelius', 'Celine', 'Bobby', 'barbara', 'David', 'Nick', 'Mitchel', 'Pete', 'Dana', 'Megan', 'Samantha', 'Trent', 'Shaun', 'Joe', 'Dan', 'Steve', 'Mike', 'Gunter', 'Jeff', 'Jeff', 'Adam', 'carol', 'Ashley,', 'MJ', 'Jason', 'Cathy', 'JP', 'ROILYN', 'Henrik', 'Anthony', 'Janine', 'John', 'Amol', 'Corbyn', 'james', 'Erin', 'Art', 'Alex', 'Jennifer', 'Heather', 'Claudiu,', 'Fred', 'Kim', 'Gregory', 'Ashley', 'Jessica', 'Simon', 'Ahlvin', 'Jack', 'Tammy', 'Joshua', 'Alicia', 'Erica', 'Dave', 'Toan', 'Jason', 'Roger', 'Christian', 'William', 'Lori', 'Niko,', 'Doug', 'Allison', 'Harris', 'James', 'Nicholas', 'Gopi', 'Allison', 'Sarah', 'Sean', 'John', 'Blaine', 'Taylor', 'Barry', 'Dennis', 'Lesley', 'Frank', 'Kevin', 'Jay', 'Lisa', 'Blake', 'Michelle', 'Andrew', 'mick', 'Darin', 'Lori', 'Heather', 'J', 'Diane', 'Alex', 'Michael', 'Lorna', 'Nathan', 'Beth', 'Kevin', 'Adam', 'Logan', 'Geoffrey', 'Damien', 'Erin', 'Nekisia', 'Erin', 'Allison', 'Rob', 'Tom', 'Kate', 'Michael', 'Linda', 'Alan', 'Peter', 'Tennison', 'Ryan', 'JD', 'Denise', 'Kelsey', 'ADemp', 'Adam', 'Rob', 'Rob', 'Liz', 'Sheryl', 'Lisa', 'Garrett', 'Jennifer', 'Kayla', 'Dave', 'Andy', 'dan', 'Corey', 'Jennifer', 'Arielle', 'Luke', 'Bob', 'Matthew', 'Gary', 'Colleen', 'Derek', 'Christie', 'bryce', 'Galya', 'Cathy', 'Amy,', 'Cory', 'Mike', 'Lynn', 'Kim', 'Courtney', 'Billy', 'Don', 'Tenley', 'M', 'Amy', 'Eileen', 'Sarah', 'Sarah', 'Jeff', 'Robert', 'Karen', 'Catherine', 'Sally', 'Diane', 'Diana', 'Michael', 'Norm', 'Theresa', 'Gary', 'Terry', 'Julia', 'Mac', 'Richard', 'Neal', 'Nate', 'Kathryn', 'Jaime', 'Missye', 'Demitria', 'Jay', 'Sean', 'Robert', 'Jamie', 'Rosemary', 'Stephen', 'Laura', 'Ron', 'Amber', 'Kevin', 'Salvador', 'Stacey', 'E', 'Britt', 'Carly', 'Scott', 'Nick', 'David', 'Robert', 'Frank', 'Ryan', 'K', 'Mona', 'Chris', 'Ari', 'Mike', 'Will', 'Cynthia', 'Rual', 'Bert', 'Dennis', 'Shadrin', 'Jeremy', 'Bonnie', 'Bryon', 'Aaron', 'Mark,Joanne', 'Craig', 'Marc', 'Stephanie', 'John', 'Hillary', 'Brent', 'Joey', 'Mike', 'Jonathan', 'D', 'Alex', 'Debra', 'Leon', 'Doug', 'Doug', 'Douglas', 'Iris', 'Ercole', 'Kate', 'Liz', 'Mark', 'Randy', 'Ronna', 'george', 'Gary', 'Dan', 'Sara', 'Mike', 'Kelli', 'Laura', 'Gregory', 'Scott', 'Jonathan', 'Paul', 'Cam', 'John', 'Paul', 'Justin', 'Chandrakant', 'Mike', 'Joe', 'Chris', 'Danielle', 'James', 'Susan', 'Jennifer', 'Chad', 'Tom', 'Ashley', 'Rita', 'Ann', 'Danny', 'Sharon', 'Bill', 'Robert', 'Nicole', 'Christian', 'Heather,', 'Steve', 'Daniel', 'Jenne', 'Rachel', 'Douglas', 'Caiden', 'Moby', 'Amanda', 'Fred', 'Lolo', 'Andrew', 'Chris', 'greg', 'John', 'Wallaces', 'Deborah', 'Mrs', 'Jason', 'Kevin', 'Dorit', 'Chris', 'Kelly', 'Shelly', 'Erin', 'Adam', 'Chuck', 'Alice', 'Bill', 'Amber', 'paul', 'Stephen', 'Kat', 'John', 'Allison', 'a', 'Jay', 'Richard', 'Michele', 'Emilio', 'Angelica', 'Ted', 'Cameron', 'Milton', 'Matt', 'Rebecca', 'Liz', 'Brad', 'Jason', 'Charles', 'Lucia', 'Bryan', 'barb', 'Ed', 'Joe', 'Brian', 'Zdravko', 'Susan', 'Jessica', 'Kate', 'Sven', 'Natalia', 'Cleo', 'J.T.', 'Lee', 'Lucas', 'Joe', 'T.C.', 'Leeth', 'Mike', 'John', 'A.', 'Julie', 'Calvin', 'Ben', 'Nick', 'Kitty', 'Rachel', 'Ann', 'Daniel', 'Bill', 'Karen', 'Andrew', 'Michael', 'Betty', 'Samantha', 'Bob', 'Matt', 'Becky', 'Paul', 'Arnold', 'Harry', 'Kara', 'Jonathan', 'Robert', 'Keelin', 'John', 'Lawrence', 'Dave', 'Lauren', 'jacqueline', 'Denise', 'Nicole', 'Debbie', 'Mark', 'Lisa', 'Amy', 'Jim', 'Heather', 'Michael', 'Tim', 'Aliza', 'Trish', 'Trish', 'Brook', 'Jill', 'Armand', 'Perry', 'Jona', 'Steve', 'Raymond', 'Armand', 'Terrence', 'Roger', 'Coleen', 'Sophia', 'John', 'Michelle', 'Beth', 'Anna', 'Derek', 'Carl', 'Drew', 'Matt', 'Amanda', 'Michael', 'David', 'Josh', 'Kyle', 'Jimmy', 'Bea', 'Metra', 'Alex', 'Patricia', 'Patrick', 'Valerie', 'Shelby', 'Malte', 'Jamie', 'Steve', 'Angela', 'Ty', 'John', 'Lydia', 'Melissa', 'Ed', 'Mike', 'Nicholas', 'Larry&', 'Vaughn', 'Manoj', 'Halvor', 'Daniel', 'Carl', 'Chris', 'Arsham', 'Alok', 'Bob', 'Sunny', 'Dustin', 'Scott', 'Mikah', 'Jimmy', 'gerome', 'Tyler', 'Matthew', 'Amanda', 'Terry', 'Colleen', 'Bon', 'Bonnie', 'Jason', 'Katie', 'Kevin,', 'Scott', 'Sean', 'Kyle', 'Zoe', 'Lane', 'Rachel', 'Adam', 'Michael', 'Vinod', 'Josh', 'Karen', 'Meredith', 'Lucas', 'Ryan', 'Matt', 'Ty', 'John', 'Jim', 'rebecca', 'David', 'Angela', 'Rhett', 'Dave', 'Nancy', 'Bret', 'James', 'Chris', 'Ryan', 'Myron', 'Alen', 'Stu', 'Benjamin', 'Tom', 'Zach', 'Amanda', 'Kelly', 'Jonathan', 'Kosta', 'Tony', 'Andy', 'Meghan', 'A.', 'Jesse,', 'Brian', 'Ellen', 'Rich', 'Anthony', 'William', 'Craig', 'Bobby', 'Scott', 'Kevin', 'William', 'Roger', 'Adrian', 'B.', 'Brian', 'Catherine', 'Paul', 'Cindy', 'Samuel', 'Bill', 'Ryan', 'Lindsey', 'Nicky', 'Casey', 'AJ', 'Neal', 'Michael', 'Richard', 'meghan', 'Tyler', 'Jeff', 'Shawn', 'Laurent', 'Nikki', 'Nathan', 'Chris', 'Jenna', 'Jose', 'Holly', 'Jake', 'Wil', 'Sam']\n"
     ]
    }
   ],
   "source": [
    "#create first name list\n",
    "lst = []\n",
    "for i in range(len(casper)):\n",
    "    x = casper.name.str.split(' ',1).tolist()[i][0]\n",
    "    lst.append(x)\n",
    "print(lst)"
   ]
  },
  {
   "cell_type": "code",
   "execution_count": 47,
   "metadata": {},
   "outputs": [
    {
     "data": {
      "text/plain": [
       "7777"
      ]
     },
     "execution_count": 47,
     "metadata": {},
     "output_type": "execute_result"
    }
   ],
   "source": [
    "#check to make sure it grabbed every row\n",
    "len(lst)"
   ]
  },
  {
   "cell_type": "code",
   "execution_count": 48,
   "metadata": {},
   "outputs": [
    {
     "data": {
      "text/html": [
       "<div>\n",
       "<style scoped>\n",
       "    .dataframe tbody tr th:only-of-type {\n",
       "        vertical-align: middle;\n",
       "    }\n",
       "\n",
       "    .dataframe tbody tr th {\n",
       "        vertical-align: top;\n",
       "    }\n",
       "\n",
       "    .dataframe thead th {\n",
       "        text-align: right;\n",
       "    }\n",
       "</style>\n",
       "<table border=\"1\" class=\"dataframe\">\n",
       "  <thead>\n",
       "    <tr style=\"text-align: right;\">\n",
       "      <th></th>\n",
       "      <th>date</th>\n",
       "      <th>name</th>\n",
       "      <th>age</th>\n",
       "      <th>city</th>\n",
       "      <th>state</th>\n",
       "      <th>rating</th>\n",
       "      <th>title</th>\n",
       "      <th>review</th>\n",
       "      <th>hours</th>\n",
       "      <th>partners</th>\n",
       "      <th>page</th>\n",
       "      <th>multiple_partners</th>\n",
       "      <th>single_partner</th>\n",
       "      <th>solo</th>\n",
       "      <th>pets</th>\n",
       "      <th>french</th>\n",
       "      <th>first_name</th>\n",
       "    </tr>\n",
       "  </thead>\n",
       "  <tbody>\n",
       "    <tr>\n",
       "      <th>0</th>\n",
       "      <td>2018-02-13</td>\n",
       "      <td>Joe W</td>\n",
       "      <td>35.0</td>\n",
       "      <td>Chicago</td>\n",
       "      <td>Illinois</td>\n",
       "      <td>5</td>\n",
       "      <td>Great Mattress</td>\n",
       "      <td>We visited the Chicago store in Fulton Market....</td>\n",
       "      <td>8</td>\n",
       "      <td>Sleeps with a partner</td>\n",
       "      <td>1</td>\n",
       "      <td>False</td>\n",
       "      <td>True</td>\n",
       "      <td>False</td>\n",
       "      <td>False</td>\n",
       "      <td>False</td>\n",
       "      <td>Joe</td>\n",
       "    </tr>\n",
       "    <tr>\n",
       "      <th>1</th>\n",
       "      <td>2018-02-13</td>\n",
       "      <td>J</td>\n",
       "      <td>33.0</td>\n",
       "      <td>Boston</td>\n",
       "      <td>Massachusetts</td>\n",
       "      <td>5</td>\n",
       "      <td>Highly Recommend</td>\n",
       "      <td>Ive had my previous mattress for YEARS (WAY ov...</td>\n",
       "      <td>8</td>\n",
       "      <td>Sleeps solo</td>\n",
       "      <td>1</td>\n",
       "      <td>False</td>\n",
       "      <td>False</td>\n",
       "      <td>True</td>\n",
       "      <td>False</td>\n",
       "      <td>False</td>\n",
       "      <td>J</td>\n",
       "    </tr>\n",
       "    <tr>\n",
       "      <th>2</th>\n",
       "      <td>2018-02-13</td>\n",
       "      <td>David Alessi</td>\n",
       "      <td>70.0</td>\n",
       "      <td>Owasso</td>\n",
       "      <td>Oklahoma</td>\n",
       "      <td>4</td>\n",
       "      <td>I like it but am still getting used to it.</td>\n",
       "      <td>The unboxing was a challenge but we managed. I...</td>\n",
       "      <td>7</td>\n",
       "      <td>Sleeps solo</td>\n",
       "      <td>1</td>\n",
       "      <td>False</td>\n",
       "      <td>False</td>\n",
       "      <td>True</td>\n",
       "      <td>False</td>\n",
       "      <td>False</td>\n",
       "      <td>David</td>\n",
       "    </tr>\n",
       "    <tr>\n",
       "      <th>3</th>\n",
       "      <td>2018-02-13</td>\n",
       "      <td>Jeanne Hamlin</td>\n",
       "      <td>66.0</td>\n",
       "      <td>Brownville</td>\n",
       "      <td>Maine</td>\n",
       "      <td>3</td>\n",
       "      <td>okay</td>\n",
       "      <td>The un-boxing was interesting.  I was disappoi...</td>\n",
       "      <td>8</td>\n",
       "      <td>Sleeps with a partner</td>\n",
       "      <td>1</td>\n",
       "      <td>False</td>\n",
       "      <td>True</td>\n",
       "      <td>False</td>\n",
       "      <td>False</td>\n",
       "      <td>False</td>\n",
       "      <td>Jeanne</td>\n",
       "    </tr>\n",
       "    <tr>\n",
       "      <th>4</th>\n",
       "      <td>2018-02-12</td>\n",
       "      <td>LETTY DELOACH</td>\n",
       "      <td>37.0</td>\n",
       "      <td>Live Oak</td>\n",
       "      <td>Texas</td>\n",
       "      <td>5</td>\n",
       "      <td>Finally found THE mattress!</td>\n",
       "      <td>I absolutely love my Casper mattress!  I was v...</td>\n",
       "      <td>8</td>\n",
       "      <td>Sleeps with a partner plus a cat</td>\n",
       "      <td>1</td>\n",
       "      <td>False</td>\n",
       "      <td>True</td>\n",
       "      <td>False</td>\n",
       "      <td>True</td>\n",
       "      <td>False</td>\n",
       "      <td>LETTY</td>\n",
       "    </tr>\n",
       "  </tbody>\n",
       "</table>\n",
       "</div>"
      ],
      "text/plain": [
       "        date           name   age        city           state  rating  \\\n",
       "0 2018-02-13          Joe W  35.0     Chicago        Illinois       5   \n",
       "1 2018-02-13              J  33.0      Boston   Massachusetts       5   \n",
       "2 2018-02-13   David Alessi  70.0      Owasso        Oklahoma       4   \n",
       "3 2018-02-13  Jeanne Hamlin  66.0  Brownville           Maine       3   \n",
       "4 2018-02-12  LETTY DELOACH  37.0    Live Oak           Texas       5   \n",
       "\n",
       "                                        title  \\\n",
       "0                              Great Mattress   \n",
       "1                            Highly Recommend   \n",
       "2  I like it but am still getting used to it.   \n",
       "3                                        okay   \n",
       "4                 Finally found THE mattress!   \n",
       "\n",
       "                                              review  hours  \\\n",
       "0  We visited the Chicago store in Fulton Market....      8   \n",
       "1  Ive had my previous mattress for YEARS (WAY ov...      8   \n",
       "2  The unboxing was a challenge but we managed. I...      7   \n",
       "3  The un-boxing was interesting.  I was disappoi...      8   \n",
       "4  I absolutely love my Casper mattress!  I was v...      8   \n",
       "\n",
       "                           partners  page  multiple_partners  single_partner  \\\n",
       "0             Sleeps with a partner     1              False            True   \n",
       "1                       Sleeps solo     1              False           False   \n",
       "2                       Sleeps solo     1              False           False   \n",
       "3             Sleeps with a partner     1              False            True   \n",
       "4  Sleeps with a partner plus a cat     1              False            True   \n",
       "\n",
       "    solo   pets  french first_name  \n",
       "0  False  False   False        Joe  \n",
       "1   True  False   False          J  \n",
       "2   True  False   False      David  \n",
       "3  False  False   False     Jeanne  \n",
       "4  False   True   False      LETTY  "
      ]
     },
     "execution_count": 48,
     "metadata": {},
     "output_type": "execute_result"
    }
   ],
   "source": [
    "#assign list to column\n",
    "casper['first_name'] = lst\n",
    "casper.head()"
   ]
  },
  {
   "cell_type": "code",
   "execution_count": 50,
   "metadata": {},
   "outputs": [
    {
     "data": {
      "text/html": [
       "<div>\n",
       "<style scoped>\n",
       "    .dataframe tbody tr th:only-of-type {\n",
       "        vertical-align: middle;\n",
       "    }\n",
       "\n",
       "    .dataframe tbody tr th {\n",
       "        vertical-align: top;\n",
       "    }\n",
       "\n",
       "    .dataframe thead th {\n",
       "        text-align: right;\n",
       "    }\n",
       "</style>\n",
       "<table border=\"1\" class=\"dataframe\">\n",
       "  <thead>\n",
       "    <tr style=\"text-align: right;\">\n",
       "      <th></th>\n",
       "      <th>date</th>\n",
       "      <th>name</th>\n",
       "      <th>age</th>\n",
       "      <th>city</th>\n",
       "      <th>state</th>\n",
       "      <th>rating</th>\n",
       "      <th>title</th>\n",
       "      <th>review</th>\n",
       "      <th>hours</th>\n",
       "      <th>partners</th>\n",
       "      <th>page</th>\n",
       "      <th>multiple_partners</th>\n",
       "      <th>single_partner</th>\n",
       "      <th>solo</th>\n",
       "      <th>pets</th>\n",
       "      <th>french</th>\n",
       "      <th>first_name</th>\n",
       "      <th>gender</th>\n",
       "    </tr>\n",
       "  </thead>\n",
       "  <tbody>\n",
       "    <tr>\n",
       "      <th>0</th>\n",
       "      <td>2018-02-13</td>\n",
       "      <td>Joe W</td>\n",
       "      <td>35.0</td>\n",
       "      <td>Chicago</td>\n",
       "      <td>Illinois</td>\n",
       "      <td>5</td>\n",
       "      <td>Great Mattress</td>\n",
       "      <td>We visited the Chicago store in Fulton Market....</td>\n",
       "      <td>8</td>\n",
       "      <td>Sleeps with a partner</td>\n",
       "      <td>1</td>\n",
       "      <td>False</td>\n",
       "      <td>True</td>\n",
       "      <td>False</td>\n",
       "      <td>False</td>\n",
       "      <td>False</td>\n",
       "      <td>Joe</td>\n",
       "      <td>male</td>\n",
       "    </tr>\n",
       "    <tr>\n",
       "      <th>1</th>\n",
       "      <td>2018-02-13</td>\n",
       "      <td>J</td>\n",
       "      <td>33.0</td>\n",
       "      <td>Boston</td>\n",
       "      <td>Massachusetts</td>\n",
       "      <td>5</td>\n",
       "      <td>Highly Recommend</td>\n",
       "      <td>Ive had my previous mattress for YEARS (WAY ov...</td>\n",
       "      <td>8</td>\n",
       "      <td>Sleeps solo</td>\n",
       "      <td>1</td>\n",
       "      <td>False</td>\n",
       "      <td>False</td>\n",
       "      <td>True</td>\n",
       "      <td>False</td>\n",
       "      <td>False</td>\n",
       "      <td>J</td>\n",
       "      <td>unknown</td>\n",
       "    </tr>\n",
       "    <tr>\n",
       "      <th>2</th>\n",
       "      <td>2018-02-13</td>\n",
       "      <td>David Alessi</td>\n",
       "      <td>70.0</td>\n",
       "      <td>Owasso</td>\n",
       "      <td>Oklahoma</td>\n",
       "      <td>4</td>\n",
       "      <td>I like it but am still getting used to it.</td>\n",
       "      <td>The unboxing was a challenge but we managed. I...</td>\n",
       "      <td>7</td>\n",
       "      <td>Sleeps solo</td>\n",
       "      <td>1</td>\n",
       "      <td>False</td>\n",
       "      <td>False</td>\n",
       "      <td>True</td>\n",
       "      <td>False</td>\n",
       "      <td>False</td>\n",
       "      <td>David</td>\n",
       "      <td>male</td>\n",
       "    </tr>\n",
       "    <tr>\n",
       "      <th>3</th>\n",
       "      <td>2018-02-13</td>\n",
       "      <td>Jeanne Hamlin</td>\n",
       "      <td>66.0</td>\n",
       "      <td>Brownville</td>\n",
       "      <td>Maine</td>\n",
       "      <td>3</td>\n",
       "      <td>okay</td>\n",
       "      <td>The un-boxing was interesting.  I was disappoi...</td>\n",
       "      <td>8</td>\n",
       "      <td>Sleeps with a partner</td>\n",
       "      <td>1</td>\n",
       "      <td>False</td>\n",
       "      <td>True</td>\n",
       "      <td>False</td>\n",
       "      <td>False</td>\n",
       "      <td>False</td>\n",
       "      <td>Jeanne</td>\n",
       "      <td>female</td>\n",
       "    </tr>\n",
       "    <tr>\n",
       "      <th>4</th>\n",
       "      <td>2018-02-12</td>\n",
       "      <td>LETTY DELOACH</td>\n",
       "      <td>37.0</td>\n",
       "      <td>Live Oak</td>\n",
       "      <td>Texas</td>\n",
       "      <td>5</td>\n",
       "      <td>Finally found THE mattress!</td>\n",
       "      <td>I absolutely love my Casper mattress!  I was v...</td>\n",
       "      <td>8</td>\n",
       "      <td>Sleeps with a partner plus a cat</td>\n",
       "      <td>1</td>\n",
       "      <td>False</td>\n",
       "      <td>True</td>\n",
       "      <td>False</td>\n",
       "      <td>True</td>\n",
       "      <td>False</td>\n",
       "      <td>LETTY</td>\n",
       "      <td>unknown</td>\n",
       "    </tr>\n",
       "  </tbody>\n",
       "</table>\n",
       "</div>"
      ],
      "text/plain": [
       "        date           name   age        city           state  rating  \\\n",
       "0 2018-02-13          Joe W  35.0     Chicago        Illinois       5   \n",
       "1 2018-02-13              J  33.0      Boston   Massachusetts       5   \n",
       "2 2018-02-13   David Alessi  70.0      Owasso        Oklahoma       4   \n",
       "3 2018-02-13  Jeanne Hamlin  66.0  Brownville           Maine       3   \n",
       "4 2018-02-12  LETTY DELOACH  37.0    Live Oak           Texas       5   \n",
       "\n",
       "                                        title  \\\n",
       "0                              Great Mattress   \n",
       "1                            Highly Recommend   \n",
       "2  I like it but am still getting used to it.   \n",
       "3                                        okay   \n",
       "4                 Finally found THE mattress!   \n",
       "\n",
       "                                              review  hours  \\\n",
       "0  We visited the Chicago store in Fulton Market....      8   \n",
       "1  Ive had my previous mattress for YEARS (WAY ov...      8   \n",
       "2  The unboxing was a challenge but we managed. I...      7   \n",
       "3  The un-boxing was interesting.  I was disappoi...      8   \n",
       "4  I absolutely love my Casper mattress!  I was v...      8   \n",
       "\n",
       "                           partners  page  multiple_partners  single_partner  \\\n",
       "0             Sleeps with a partner     1              False            True   \n",
       "1                       Sleeps solo     1              False           False   \n",
       "2                       Sleeps solo     1              False           False   \n",
       "3             Sleeps with a partner     1              False            True   \n",
       "4  Sleeps with a partner plus a cat     1              False            True   \n",
       "\n",
       "    solo   pets  french first_name   gender  \n",
       "0  False  False   False        Joe     male  \n",
       "1   True  False   False          J  unknown  \n",
       "2   True  False   False      David     male  \n",
       "3  False  False   False     Jeanne   female  \n",
       "4  False   True   False      LETTY  unknown  "
      ]
     },
     "execution_count": 50,
     "metadata": {},
     "output_type": "execute_result"
    }
   ],
   "source": [
    "#get customer genders\n",
    "casper['gender'] = casper.first_name.apply(d.get_gender)\n",
    "casper.head()"
   ]
  },
  {
   "cell_type": "code",
   "execution_count": null,
   "metadata": {
    "collapsed": true
   },
   "outputs": [],
   "source": [
    "casper['city_state'] = casper.city + casper.state\n",
    "geolocator = Nominatim()\n",
    "location_lst = []\n",
    "lat_lst = []\n",
    "long_lst = []\n",
    "for i in range(len(casper)):\n",
    "    try:\n",
    "        x = geolocator.geocode(casper.city_state[i])\n",
    "        location_lst.append(x.address)\n",
    "        lat_lst.append(x.latitude)\n",
    "        long_lst.append(x.longitude)\n",
    "    except:\n",
    "        location_lst.append('None')\n",
    "        lat_lst.append('None')\n",
    "        long_lst.append('None')\n",
    "# location = geolocator.geocode('chitown')\n",
    "# print(location.address)\n",
    "# print(location.latitude, location.longitude)"
   ]
  },
  {
   "cell_type": "code",
   "execution_count": null,
   "metadata": {
    "collapsed": true
   },
   "outputs": [],
   "source": [
    "print(len(location_lst), len(lat_lst), len(long_lst))"
   ]
  },
  {
   "cell_type": "code",
   "execution_count": null,
   "metadata": {
    "collapsed": true
   },
   "outputs": [],
   "source": [
    "#save location info to dataframe"
   ]
  },
  {
   "cell_type": "code",
   "execution_count": null,
   "metadata": {
    "collapsed": true
   },
   "outputs": [],
   "source": [
    "#write to csv"
   ]
  },
  {
   "cell_type": "code",
   "execution_count": null,
   "metadata": {
    "collapsed": true
   },
   "outputs": [],
   "source": [
    "#one hot encoding for gender"
   ]
  },
  {
   "cell_type": "code",
   "execution_count": null,
   "metadata": {
    "collapsed": true
   },
   "outputs": [],
   "source": [
    "#subset numerical data for kmeans "
   ]
  },
  {
   "cell_type": "code",
   "execution_count": null,
   "metadata": {
    "collapsed": true
   },
   "outputs": [],
   "source": [
    "#fit kmeans"
   ]
  },
  {
   "cell_type": "code",
   "execution_count": null,
   "metadata": {
    "collapsed": true
   },
   "outputs": [],
   "source": [
    "#inspect groupings"
   ]
  },
  {
   "cell_type": "code",
   "execution_count": null,
   "metadata": {
    "collapsed": true
   },
   "outputs": [],
   "source": []
  },
  {
   "cell_type": "code",
   "execution_count": null,
   "metadata": {
    "collapsed": true
   },
   "outputs": [],
   "source": []
  }
 ],
 "metadata": {
  "kernelspec": {
   "display_name": "Python 3",
   "language": "python",
   "name": "python3"
  },
  "language_info": {
   "codemirror_mode": {
    "name": "ipython",
    "version": 3
   },
   "file_extension": ".py",
   "mimetype": "text/x-python",
   "name": "python",
   "nbconvert_exporter": "python",
   "pygments_lexer": "ipython3",
   "version": "3.6.3"
  }
 },
 "nbformat": 4,
 "nbformat_minor": 2
}
